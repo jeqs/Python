{
 "cells": [
  {
   "cell_type": "code",
   "execution_count": 3,
   "metadata": {},
   "outputs": [
    {
     "name": "stdout",
     "output_type": "stream",
     "text": [
      "{'Juan': '31587982132', 'Pedio': '31587982132', 'Ximena': '31587982131', 'Maria': '3157141698'}\n",
      "4\n"
     ]
    }
   ],
   "source": [
    "agenda = { \n",
    "    'Juan': \"31587982132\",\n",
    "    'Pedio': \"31587982132\",\n",
    "    'Ximena': \"31587982131\",\n",
    "}\n",
    "\n",
    "agenda['Maria'] = '3157141698'\n",
    "print(agenda)\n",
    "print(len(agenda))"
   ]
  },
  {
   "cell_type": "code",
   "execution_count": 11,
   "metadata": {},
   "outputs": [
    {
     "name": "stdout",
     "output_type": "stream",
     "text": [
      "['Juan', 'Pedio', 'Ximena']\n",
      "False\n"
     ]
    },
    {
     "ename": "KeyError",
     "evalue": "'Maria'",
     "output_type": "error",
     "traceback": [
      "\u001b[1;31m---------------------------------------------------------------------------\u001b[0m",
      "\u001b[1;31mKeyError\u001b[0m                                  Traceback (most recent call last)",
      "Cell \u001b[1;32mIn[11], line 6\u001b[0m\n\u001b[0;32m      4\u001b[0m \u001b[39m# print(\"juanx\" in agenda)\u001b[39;00m\n\u001b[0;32m      5\u001b[0m \u001b[39mprint\u001b[39m(\u001b[39m\"\u001b[39m\u001b[39mMaria\u001b[39m\u001b[39m\"\u001b[39m \u001b[39min\u001b[39;00m agenda)\n\u001b[1;32m----> 6\u001b[0m \u001b[39mdel\u001b[39;00m agenda[\u001b[39m'\u001b[39m\u001b[39mMaria\u001b[39m\u001b[39m'\u001b[39m]\n\u001b[0;32m      7\u001b[0m \u001b[39mprint\u001b[39m(\u001b[39m\"\u001b[39m\u001b[39mMaria\u001b[39m\u001b[39m\"\u001b[39m \u001b[39min\u001b[39;00m agenda)\n",
      "\u001b[1;31mKeyError\u001b[0m: 'Maria'"
     ]
    }
   ],
   "source": [
    "claves = list(agenda)\n",
    "print(claves)\n",
    "\n",
    "print(\"juanx\" in agenda)\n",
    "print(\"Maria\" in agenda)\n",
    "del agenda['Maria']\n",
    "print(\"Maria\" in agenda)"
   ]
  },
  {
   "cell_type": "code",
   "execution_count": 13,
   "metadata": {},
   "outputs": [
    {
     "name": "stdout",
     "output_type": "stream",
     "text": [
      "Juan 31587982132\n",
      "Pedio 31587982132\n",
      "Ximena 31587982131\n"
     ]
    }
   ],
   "source": [
    "for clave, valor in agenda.items():\n",
    "    print(clave, valor)"
   ]
  },
  {
   "cell_type": "code",
   "execution_count": 20,
   "metadata": {},
   "outputs": [
    {
     "name": "stdout",
     "output_type": "stream",
     "text": [
      "Clave no encontrada\n",
      "Clave no encontrada\n",
      "{}\n",
      "{}\n"
     ]
    }
   ],
   "source": [
    "dato = agenda.get('Juan', 'Clave no encontrada')\n",
    "print(dato)\n",
    "\n",
    "dato = agenda.get('JuanX', 'Clave no encontrada')\n",
    "print(dato)\n",
    "\n",
    "agenda.clear()\n",
    "print(agenda)"
   ]
  }
 ],
 "metadata": {
  "kernelspec": {
   "display_name": "study",
   "language": "python",
   "name": "python3"
  },
  "language_info": {
   "codemirror_mode": {
    "name": "ipython",
    "version": 3
   },
   "file_extension": ".py",
   "mimetype": "text/x-python",
   "name": "python",
   "nbconvert_exporter": "python",
   "pygments_lexer": "ipython3",
   "version": "3.9.16"
  },
  "orig_nbformat": 4
 },
 "nbformat": 4,
 "nbformat_minor": 2
}
