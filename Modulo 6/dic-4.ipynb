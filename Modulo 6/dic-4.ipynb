{
 "cells": [
  {
   "cell_type": "code",
   "execution_count": 7,
   "metadata": {},
   "outputs": [
    {
     "name": "stdout",
     "output_type": "stream",
     "text": [
      "Producto_1 Manzana 10\n",
      "Producto_2 Pera 20\n",
      "Producto_3 Cocos 75\n"
     ]
    }
   ],
   "source": [
    "productos = { \n",
    "    \"Producto_1\": {\n",
    "        'Nombre': 'Manzana',\n",
    "        'Precio': 10\n",
    "    },\n",
    "    \"Producto_2\": {\n",
    "        'Nombre': 'Banano',\n",
    "        'Precio': 20\n",
    "    },\n",
    "    \"Producto_2\": {\n",
    "        'Nombre': 'Pera',\n",
    "        'Precio': 20\n",
    "    },\n",
    "}\n",
    "\n",
    "productos['Producto_3'] = {\n",
    "        'Nombre': 'Cocos',\n",
    "        'Precio': 75\n",
    "    }\n",
    "\n",
    "# print (productos)\n",
    "for producto, detalle in productos.items():\n",
    "    print(producto, detalle['Nombre'], detalle['Precio'])"
   ]
  },
  {
   "cell_type": "code",
   "execution_count": 10,
   "metadata": {},
   "outputs": [
    {
     "name": "stdout",
     "output_type": "stream",
     "text": [
      "equipo_1 Nacional ['Nacional1', 'Nacional2', 'Nacional']\n",
      "equipo_2 Millos ['Millos1', 'Millos2', 'Millos3', 'Equidad4']\n",
      "equipo_3 Junior ['Junior1', 'Junior2', 'Junior3']\n",
      "equipo_4 Equidad ['Equidad1', 'Equidad2', 'Equidad3']\n"
     ]
    }
   ],
   "source": [
    "equipos = { \n",
    "    \"equipo_1\": {\n",
    "        'Nombre': 'Nacional',\n",
    "        'Jugadores': [\"Nacional1\",\"Nacional2\",\"Nacional\"]\n",
    "    },\n",
    "    \"equipo_2\": {\n",
    "        'Nombre': 'Millos',\n",
    "        'Jugadores': [\"Millos1\",\"Millos2\",\"Millos3\"]\n",
    "    },\n",
    "    \"equipo_3\": {\n",
    "        'Nombre': 'Junior',\n",
    "        'Jugadores': [\"Junior1\",\"Junior2\",\"Junior3\"]\n",
    "    },\n",
    "}\n",
    "\n",
    "equipos[\"equipo_4\"] = {\n",
    "        'Nombre': 'Equidad',\n",
    "        'Jugadores': [\"Equidad1\",\"Equidad2\",\"Equidad3\"]\n",
    "    }\n",
    "\n",
    "equipos[\"equipo_2\"]['Jugadores'].append(\"Equidad4\")\n",
    "\n",
    "for equipos, detalle in equipos.items():\n",
    "    print(equipos, detalle['Nombre'], detalle['Jugadores'])"
   ]
  }
 ],
 "metadata": {
  "kernelspec": {
   "display_name": "study",
   "language": "python",
   "name": "python3"
  },
  "language_info": {
   "codemirror_mode": {
    "name": "ipython",
    "version": 3
   },
   "file_extension": ".py",
   "mimetype": "text/x-python",
   "name": "python",
   "nbconvert_exporter": "python",
   "pygments_lexer": "ipython3",
   "version": "3.9.16"
  },
  "orig_nbformat": 4
 },
 "nbformat": 4,
 "nbformat_minor": 2
}
