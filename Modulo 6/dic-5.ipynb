{
 "cells": [
  {
   "cell_type": "code",
   "execution_count": 14,
   "metadata": {},
   "outputs": [
    {
     "name": "stdout",
     "output_type": "stream",
     "text": [
      "Producto_1 Manzana 10\n",
      "Producto_2 Pera 150\n",
      "Producto_3 Cocos 75\n",
      "235\n"
     ]
    }
   ],
   "source": [
    "ventas = { \n",
    "    \"Producto_1\": {\n",
    "        'Nombre': 'Manzana',\n",
    "        'Venta': 10\n",
    "    },\n",
    "    \"Producto_2\": {\n",
    "        'Nombre': 'Banano',\n",
    "        'Venta': 20\n",
    "    },\n",
    "    \"Producto_2\": {\n",
    "        'Nombre': 'Pera',\n",
    "        'Venta': 20\n",
    "    },\n",
    "}\n",
    "\n",
    "ventas['Producto_2']['Venta'] =  150\n",
    "\n",
    "ventas['Producto_3'] = {\n",
    "        'Nombre': 'Cocos',\n",
    "        'Venta': 75\n",
    "    }\n",
    "\n",
    "# print (productos)\n",
    "suma = 0\n",
    "for venta, detalle in ventas.items():\n",
    "    print(venta, detalle['Nombre'], detalle['Venta'])\n",
    "    suma = suma + detalle['Venta']\n",
    "print(suma)\n"
   ]
  },
  {
   "cell_type": "code",
   "execution_count": 16,
   "metadata": {},
   "outputs": [
    {
     "name": "stdout",
     "output_type": "stream",
     "text": [
      "('Tarea_1', {'Descripcion': 'Sumar', 'Responsable': 'Jose'})\n",
      "('Tarea_2', {'Descripcion': 'Dividir', 'Responsable': 'Pedro'})\n",
      "('Tarea_3', {'Descripcion': 'Multiplicar', 'Responsable': 'Luis'})\n",
      "('Tarea_4', {'Descripcion': 'SQRT', 'Responsable': 'Alberto'})\n"
     ]
    }
   ],
   "source": [
    "tareas = { \n",
    "    \"Tarea_1\": {\n",
    "        'Descripcion': 'Sumar',\n",
    "        'Responsable': 'Jose'\n",
    "    },\n",
    "    \"Tarea_2\": {\n",
    "        'Descripcion': 'Restar',\n",
    "        'Responsable': 'Pedro'\n",
    "    },\n",
    "    \"Tarea_3\": {\n",
    "        'Descripcion': 'Multiplicar',\n",
    "        'Responsable': 'Luis'\n",
    "    },\n",
    "}\n",
    "\n",
    "tareas['Tarea_2']['Descripcion'] =  'Dividir'\n",
    "\n",
    "tareas['Tarea_4'] = {\n",
    "       'Descripcion': 'SQRT',\n",
    "       'Responsable': 'Alberto'\n",
    "    }\n",
    "\n",
    "\n",
    "for tarea in tareas.items():\n",
    "    print(tarea)"
   ]
  },
  {
   "cell_type": "code",
   "execution_count": 33,
   "metadata": {},
   "outputs": [
    {
     "name": "stdout",
     "output_type": "stream",
     "text": [
      "Jose 01/01/2021 Asistencia: 01/01/2021 Asistencia: 01/01/2021\n",
      "Pedro 01/01/2021 Asistencia: 01/01/2021 Asistencia: 01/01/2021 Asistencia: 01/01/2021\n",
      "Pablo 01/01/2021 Asistencia: 01/01/2021 Asistencia: 01/01/2021\n",
      "Maria 01/01/2021 Asistencia: 01/01/2021 Asistencia: 01/01/2021\n"
     ]
    }
   ],
   "source": [
    "asistencias = { \n",
    "    \"Estudiante_1\": {\n",
    "        'Asistencias': ['01/01/2021', '01/01/2021', '01/01/2021'],\n",
    "        'Nombre': 'Jose'\n",
    "    },\n",
    "    \"Estudiante_2\": {\n",
    "        'Asistencias': ['01/01/2021', '01/01/2021', '01/01/2021'],\n",
    "        'Nombre': 'Pedro'\n",
    "    },\n",
    "    \"Estudiante_3\": {\n",
    "        'Asistencias': ['01/01/2021', '01/01/2021', '01/01/2021'],\n",
    "        'Nombre': 'Luis'\n",
    "    },\n",
    "}\n",
    "\n",
    "asistencias['Estudiante_2']['Asistencias'].append('01/01/2021')\n",
    "asistencias['Estudiante_3']['Nombre'] =  'Pablo'\n",
    "\n",
    "asistencias['Estudiante_4'] = {\n",
    "       'Asistencias': ['01/01/2021', '01/01/2021', '01/01/2021'],\n",
    "        'Nombre': 'Maria'\n",
    "    }\n",
    "\n",
    "for estu, asis in asistencias.items():\n",
    "    print(asis['Nombre'], \" Asistencia: \".join(asis['Asistencias']))"
   ]
  },
  {
   "cell_type": "code",
   "execution_count": 46,
   "metadata": {},
   "outputs": [
    {
     "name": "stdout",
     "output_type": "stream",
     "text": [
      "{'JOse': 100}\n",
      "{'JOse': 100, 'MAri': 33}\n",
      "{'JOse': 100, 'MAri': 33}\n",
      "jugadormasalto JOse\n",
      "puntaje 100\n",
      "total_puntaje 133\n",
      "promedio 66.5\n"
     ]
    }
   ],
   "source": [
    "registro = {}\n",
    "continuar = True\n",
    "\n",
    "while continuar:\n",
    "    nombre = input(\"Ingreso nombre jugador o escriba 'salir' para terminar: \")\n",
    "    if nombre.lower() == 'salir':\n",
    "        continuar = False\n",
    "    else:\n",
    "        puntaje = int(input(\"Ingreso puntaje jugador: \"))\n",
    "        registro[nombre] = puntaje\n",
    "    print(registro)\n",
    "\n",
    "if len(registro) > 0:\n",
    "    jugadormasalto =max(registro, key=registro.get)\n",
    "    print (\"jugadormasalto\", jugadormasalto)\n",
    "    print (\"puntaje\", registro[jugadormasalto])\n",
    "\n",
    "    total_puntaje = sum(registro.values())\n",
    "    print (\"total_puntaje\", total_puntaje)\n",
    "\n",
    "    print (\"promedio\", total_puntaje / len(registro))"
   ]
  },
  {
   "cell_type": "code",
   "execution_count": 49,
   "metadata": {},
   "outputs": [
    {
     "name": "stdout",
     "output_type": "stream",
     "text": [
      "<class 'tuple'>\n"
     ]
    }
   ],
   "source": [
    "dato = ('fruta', 45, True)\n",
    "print(type(dato))"
   ]
  },
  {
   "cell_type": "code",
   "execution_count": 54,
   "metadata": {},
   "outputs": [
    {
     "name": "stdout",
     "output_type": "stream",
     "text": [
      "None\n"
     ]
    }
   ],
   "source": [
    "diccionario = {\n",
    "    'manzana':1,\n",
    "    'platano':2,\n",
    "    'narajaa':3,\n",
    "    }\n",
    "diccionario['pera'] = 4\n",
    "# del diccionario\n",
    "# print(diccionario.items())\n",
    "print(diccionario.get('pera'))"
   ]
  }
 ],
 "metadata": {
  "kernelspec": {
   "display_name": "study",
   "language": "python",
   "name": "python3"
  },
  "language_info": {
   "codemirror_mode": {
    "name": "ipython",
    "version": 3
   },
   "file_extension": ".py",
   "mimetype": "text/x-python",
   "name": "python",
   "nbconvert_exporter": "python",
   "pygments_lexer": "ipython3",
   "version": "3.9.16"
  },
  "orig_nbformat": 4
 },
 "nbformat": 4,
 "nbformat_minor": 2
}
