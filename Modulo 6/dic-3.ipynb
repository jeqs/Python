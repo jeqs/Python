{
 "cells": [
  {
   "cell_type": "code",
   "execution_count": 8,
   "metadata": {},
   "outputs": [
    {
     "name": "stdout",
     "output_type": "stream",
     "text": [
      "Juan 100 10\n",
      "Pedro 20 20\n",
      "Maria 40 40\n",
      "Jose 35 5\n"
     ]
    }
   ],
   "source": [
    "estudiantes = [{ \n",
    "    'Nombre': \"Juan\",\n",
    "    'Edad': \"30\",\n",
    "    'Nota': 10,\n",
    "},\n",
    "{ \n",
    "    'Nombre': \"Pedro\",\n",
    "    'Edad': \"20\",\n",
    "    'Nota': 20,\n",
    "},\n",
    "{ \n",
    "    'Nombre': \"Maria\",\n",
    "    'Edad': \"40\",\n",
    "    'Nota': 40,\n",
    "}]\n",
    "\n",
    "# print(estudiantes)\n",
    "\n",
    "estudiantes.append({ \n",
    "    'Nombre': \"Jose\",\n",
    "    'Edad': \"35\",\n",
    "    'Nota': 5,\n",
    "})\n",
    "\n",
    "# del estudiantes[1]\n",
    "estudiantes[0][\"Edad\"] = 100\n",
    "\n",
    "for datos in estudiantes:\n",
    "    print(datos['Nombre'], datos['Edad'], datos['Nota'])\n"
   ]
  }
 ],
 "metadata": {
  "kernelspec": {
   "display_name": "study",
   "language": "python",
   "name": "python3"
  },
  "language_info": {
   "codemirror_mode": {
    "name": "ipython",
    "version": 3
   },
   "file_extension": ".py",
   "mimetype": "text/x-python",
   "name": "python",
   "nbconvert_exporter": "python",
   "pygments_lexer": "ipython3",
   "version": "3.9.16"
  },
  "orig_nbformat": 4
 },
 "nbformat": 4,
 "nbformat_minor": 2
}
