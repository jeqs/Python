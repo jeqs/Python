{
 "cells": [
  {
   "cell_type": "code",
   "execution_count": 1,
   "metadata": {},
   "outputs": [
    {
     "name": "stdout",
     "output_type": "stream",
     "text": [
      "3\n",
      "100\n",
      "<class 'dict'>\n"
     ]
    }
   ],
   "source": [
    "my_direccionario = {\n",
    "    'manzana': 1,\n",
    "    'pera': 2,\n",
    "    'banano': 3\n",
    "    }\n",
    "print (my_direccionario['banano'])\n",
    "my_direccionario['banano'] = 100\n",
    "print (my_direccionario['banano'])\n",
    "print (type(my_direccionario))"
   ]
  },
  {
   "cell_type": "code",
   "execution_count": 89,
   "metadata": {},
   "outputs": [
    {
     "name": "stdout",
     "output_type": "stream",
     "text": [
      "{}\n",
      "<class 'dict'>\n"
     ]
    }
   ],
   "source": [
    "my_direccionario_vacio = {}\n",
    "print (my_direccionario_vacio)\n",
    "print (type(my_direccionario_vacio))"
   ]
  },
  {
   "cell_type": "code",
   "execution_count": 3,
   "metadata": {},
   "outputs": [
    {
     "name": "stdout",
     "output_type": "stream",
     "text": [
      "{'manzana': 1, 'banano': 3}\n"
     ]
    }
   ],
   "source": [
    "my_direccionario = {\n",
    "    'manzana': 1,\n",
    "    'pera': 2,\n",
    "    'banano': 3\n",
    "    }\n",
    "del my_direccionario['pera']\n",
    "print (my_direccionario)"
   ]
  },
  {
   "cell_type": "code",
   "execution_count": 4,
   "metadata": {},
   "outputs": [
    {
     "ename": "NameError",
     "evalue": "name 'my_direccionario' is not defined",
     "output_type": "error",
     "traceback": [
      "\u001b[1;31m---------------------------------------------------------------------------\u001b[0m",
      "\u001b[1;31mNameError\u001b[0m                                 Traceback (most recent call last)",
      "Cell \u001b[1;32mIn[4], line 7\u001b[0m\n\u001b[0;32m      1\u001b[0m my_direccionario \u001b[39m=\u001b[39m {\n\u001b[0;32m      2\u001b[0m     \u001b[39m'\u001b[39m\u001b[39mmanzana\u001b[39m\u001b[39m'\u001b[39m: \u001b[39m1\u001b[39m,\n\u001b[0;32m      3\u001b[0m     \u001b[39m'\u001b[39m\u001b[39mpera\u001b[39m\u001b[39m'\u001b[39m: \u001b[39m2\u001b[39m,\n\u001b[0;32m      4\u001b[0m     \u001b[39m'\u001b[39m\u001b[39mbanano\u001b[39m\u001b[39m'\u001b[39m: \u001b[39m3\u001b[39m\n\u001b[0;32m      5\u001b[0m     }\n\u001b[0;32m      6\u001b[0m \u001b[39mdel\u001b[39;00m my_direccionario\n\u001b[1;32m----> 7\u001b[0m \u001b[39mprint\u001b[39m (my_direccionario)\n",
      "\u001b[1;31mNameError\u001b[0m: name 'my_direccionario' is not defined"
     ]
    }
   ],
   "source": [
    "my_direccionario = {\n",
    "    'manzana': 1,\n",
    "    'pera': 2,\n",
    "    'banano': 3\n",
    "    }\n",
    "del my_direccionario\n",
    "print (my_direccionario)"
   ]
  },
  {
   "cell_type": "code",
   "execution_count": 10,
   "metadata": {},
   "outputs": [
    {
     "name": "stdout",
     "output_type": "stream",
     "text": [
      "{'clave': 1}\n"
     ]
    }
   ],
   "source": [
    "my_direccionario_inicial = {}\n",
    "my_direccionario_inicial['clave'] = 1\n",
    "print (my_direccionario_inicial)"
   ]
  },
  {
   "cell_type": "code",
   "execution_count": 13,
   "metadata": {},
   "outputs": [
    {
     "name": "stdout",
     "output_type": "stream",
     "text": [
      "{'edad': 40, 'nombre': 'Jose'}\n",
      "40\n"
     ]
    }
   ],
   "source": [
    "dic_bd = { \n",
    "    'edad': 40,\n",
    "    'nombre': \"Jose\"\n",
    "}\n",
    "print (dic_bd)\n",
    "print (dic_bd['edad'])"
   ]
  },
  {
   "cell_type": "code",
   "execution_count": 22,
   "metadata": {},
   "outputs": [
    {
     "name": "stdout",
     "output_type": "stream",
     "text": [
      "{'Edad': 40, 'Nombre': 'Jose', 'Direccion': {'Carrera': 'Calle 1 # 123'}}\n",
      "{'Carrera': 'Calle 1 # 123'}\n",
      "<class 'dict'>\n",
      "dict_keys(['Edad', 'Nombre', 'Direccion'])\n",
      "dict_keys(['Carrera'])\n",
      "dict_values([40, 'Jose', {'Carrera': 'Calle 1 # 123'}])\n",
      "dict_values(['Calle 1 # 123'])\n",
      "dict_items([('Edad', 40), ('Nombre', 'Jose'), ('Direccion', {'Carrera': 'Calle 1 # 123'})])\n"
     ]
    }
   ],
   "source": [
    "dic_bd = { \n",
    "    'Edad': 40,\n",
    "    'Nombre': \"Jose\",\n",
    "    'Direccion': {\n",
    "        'Carrera': 'Calle 1 # 123',\n",
    "    },\n",
    "}\n",
    "print (dic_bd)\n",
    "print (dic_bd['Direccion'])\n",
    "print (type(dic_bd['Direccion']))\n",
    "print (dic_bd.keys())\n",
    "print (dic_bd['Direccion'].keys())\n",
    "print (dic_bd.values())\n",
    "print (dic_bd['Direccion'].values())\n",
    "print (dic_bd.items())"
   ]
  },
  {
   "cell_type": "code",
   "execution_count": 33,
   "metadata": {},
   "outputs": [
    {
     "name": "stdout",
     "output_type": "stream",
     "text": [
      "{'Edad': 40, 'Nombre': 'Jose', 'Direccion': {'Carrera': 'Calle 1 # 123'}}\n",
      "None\n",
      "0\n"
     ]
    }
   ],
   "source": [
    "dic_bd = { \n",
    "    'Edad': 40,\n",
    "    'Nombre': \"Jose\",\n",
    "    'Direccion': {\n",
    "        'Carrera': 'Calle 1 # 123',\n",
    "    },\n",
    "}\n",
    "print (dic_bd)\n",
    "# print (dic_bd['Direccion2']) #Devuelve Error\n",
    "print (dic_bd.get('Direccion2'))\n",
    "print (dic_bd.get('Direccion2', '0'))"
   ]
  },
  {
   "cell_type": "code",
   "execution_count": 35,
   "metadata": {},
   "outputs": [
    {
     "name": "stdout",
     "output_type": "stream",
     "text": [
      "{'Edad': 40, 'Nombre': 'Jose', 'Direccion': {'Carrera': 'Calle 1 # 123'}}\n",
      "{'Carrera': 'Calle 1 # 123'}\n",
      "None\n"
     ]
    }
   ],
   "source": [
    "dic_bd = { \n",
    "    'Edad': 40,\n",
    "    'Nombre': \"Jose\",\n",
    "    'Direccion': {\n",
    "        'Carrera': 'Calle 1 # 123',\n",
    "    },\n",
    "}\n",
    "print (dic_bd)\n",
    "valorDire = dic_bd.pop('Direccion')\n",
    "print (valorDire)\n",
    "print (dic_bd.get('Direccion2'))"
   ]
  },
  {
   "cell_type": "code",
   "execution_count": 36,
   "metadata": {},
   "outputs": [
    {
     "name": "stdout",
     "output_type": "stream",
     "text": [
      "{}\n"
     ]
    }
   ],
   "source": [
    "dic_bd = { \n",
    "    'Edad': 40,\n",
    "    'Nombre': \"Jose\",\n",
    "    'Direccion': {\n",
    "        'Carrera': 'Calle 1 # 123',\n",
    "    },\n",
    "}\n",
    "dic_bd.clear()\n",
    "print (dic_bd)"
   ]
  },
  {
   "cell_type": "code",
   "execution_count": 38,
   "metadata": {},
   "outputs": [
    {
     "name": "stdout",
     "output_type": "stream",
     "text": [
      "{1: 2, 2: 3, 4: 5}\n",
      "<class 'dict'>\n"
     ]
    }
   ],
   "source": [
    "mis_tuplas = [(1,2),(2,3),(4,5)]\n",
    "mi_dic = dict(mis_tuplas)\n",
    "print(mi_dic)\n",
    "print(type(mi_dic))"
   ]
  },
  {
   "cell_type": "code",
   "execution_count": 39,
   "metadata": {},
   "outputs": [
    {
     "name": "stdout",
     "output_type": "stream",
     "text": [
      "{1: 2, 2: 3, 4: 6}\n",
      "<class 'dict'>\n"
     ]
    }
   ],
   "source": [
    "mis_tuplas = [(1,2),(2,3),(4,5),(4,6)]\n",
    "mi_dic = dict(mis_tuplas)\n",
    "print(mi_dic)\n",
    "print(type(mi_dic))"
   ]
  },
  {
   "cell_type": "code",
   "execution_count": 42,
   "metadata": {},
   "outputs": [
    {
     "name": "stdout",
     "output_type": "stream",
     "text": [
      "{'key1': 1, 'key2': 2, 'key3': 3}\n",
      "<class 'dict'>\n"
     ]
    }
   ],
   "source": [
    "keys = ['key1','key2','key3']\n",
    "values  = [1,2,3]\n",
    "mi_dic = dict(zip(keys,values))\n",
    "print(mi_dic)\n",
    "print(type(mi_dic))"
   ]
  },
  {
   "cell_type": "code",
   "execution_count": 4,
   "metadata": {},
   "outputs": [
    {
     "name": "stdout",
     "output_type": "stream",
     "text": [
      "{'key1': 1, 'key2': 2}\n",
      "<class 'dict'>\n"
     ]
    }
   ],
   "source": [
    "keys = ['key1','key2']\n",
    "values  = [1,2,3]\n",
    "mi_dic = dict(zip(keys,values))\n",
    "print(mi_dic)\n",
    "print(type(mi_dic))"
   ]
  },
  {
   "cell_type": "code",
   "execution_count": 47,
   "metadata": {},
   "outputs": [
    {
     "name": "stdout",
     "output_type": "stream",
     "text": [
      "{'key2': 2, 'key1': 1, 'key3': 3}\n",
      "<class 'dict'>\n"
     ]
    }
   ],
   "source": [
    "my_set = {('key1', 1), ('key2', 2), ('key3', 3)}\n",
    "my_dict_s = dict(my_set)\n",
    "print(my_dict_s)\n",
    "print(type(my_dict_s))"
   ]
  },
  {
   "cell_type": "code",
   "execution_count": 61,
   "metadata": {},
   "outputs": [
    {
     "name": "stdout",
     "output_type": "stream",
     "text": [
      "Edad 40\n",
      "Nombre Jose\n",
      "Direccion {'Carrera': 'Calle 1 # 123'}\n",
      "--tuplas--\n",
      "('Edad', 40)\n",
      "('Nombre', 'Jose')\n",
      "('Direccion', {'Carrera': 'Calle 1 # 123'})\n",
      "--keys explicios--\n",
      "Edad\n",
      "Nombre\n",
      "Direccion\n",
      "--keys implicitos--\n",
      "Edad\n",
      "Nombre\n",
      "Direccion\n",
      "--keys ordenadas--\n",
      "Direccion\n",
      "Edad\n",
      "Nombre\n",
      "--valores ordenadas--\n",
      "Direccion {'Carrera': 'Calle 1 # 123'}\n",
      "Edad 40\n",
      "Nombre Jose\n",
      "--valores ordenadas--\n",
      "40\n",
      "Jose\n",
      "{'Carrera': 'Calle 1 # 123'}\n",
      "--valores unicos--\n"
     ]
    },
    {
     "ename": "TypeError",
     "evalue": "unhashable type: 'dict'",
     "output_type": "error",
     "traceback": [
      "\u001b[1;31m---------------------------------------------------------------------------\u001b[0m",
      "\u001b[1;31mTypeError\u001b[0m                                 Traceback (most recent call last)",
      "Cell \u001b[1;32mIn[61], line 37\u001b[0m\n\u001b[0;32m     34\u001b[0m     \u001b[39mprint\u001b[39m (val)\n\u001b[0;32m     36\u001b[0m \u001b[39mprint\u001b[39m(\u001b[39m\"\u001b[39m\u001b[39m--valores unicos--\u001b[39m\u001b[39m\"\u001b[39m)\n\u001b[1;32m---> 37\u001b[0m \u001b[39mfor\u001b[39;00m val \u001b[39min\u001b[39;00m \u001b[39mset\u001b[39;49m(dic_bd\u001b[39m.\u001b[39;49mvalues()):\n\u001b[0;32m     38\u001b[0m     \u001b[39mprint\u001b[39m (val)\n",
      "\u001b[1;31mTypeError\u001b[0m: unhashable type: 'dict'"
     ]
    }
   ],
   "source": [
    "dic_bd = { \n",
    "    'Edad': 40,\n",
    "    'Nombre': \"Jose\",\n",
    "    'Direccion': {\n",
    "        'Carrera': 'Calle 1 # 123',\n",
    "    },\n",
    "}\n",
    "\n",
    "for clave, valor in dic_bd.items() :\n",
    "    print (clave, valor)\n",
    "\n",
    "print(\"--tuplas--\")\n",
    "for tupla in dic_bd.items() :\n",
    "    print (tupla)\n",
    "\n",
    "print(\"--keys explicios--\")\n",
    "for ky in dic_bd.keys():\n",
    "    print (ky)\n",
    "\n",
    "print(\"--keys implicitos--\")\n",
    "for ky in dic_bd:\n",
    "    print (ky)\n",
    "\n",
    "print(\"--keys ordenadas--\")\n",
    "for ky in sorted(dic_bd.keys()):\n",
    "    print (ky)\n",
    "\n",
    "print(\"--valores ordenadas--\")\n",
    "for ky, val in sorted(dic_bd.items()):\n",
    "    print (ky, val)\n",
    "\n",
    "print(\"--valores ordenadas--\")\n",
    "for val in dic_bd.values():\n",
    "    print (val)\n"
   ]
  },
  {
   "cell_type": "code",
   "execution_count": 63,
   "metadata": {},
   "outputs": [
    {
     "name": "stdout",
     "output_type": "stream",
     "text": [
      "--valores unicos--\n",
      "java\n",
      "c\n",
      "python\n"
     ]
    }
   ],
   "source": [
    "dic_bd_lenguajes = { \n",
    "    'juan': 'c',\n",
    "    'pedro': \"java\",\n",
    "    'luis': \"python\",\n",
    "    'maria': \"python\",\n",
    "}\n",
    "\n",
    "print(\"--valores unicos--\")\n",
    "for val in set(dic_bd_lenguajes.values()):\n",
    "    print (val)"
   ]
  },
  {
   "cell_type": "code",
   "execution_count": 69,
   "metadata": {},
   "outputs": [
    {
     "name": "stdout",
     "output_type": "stream",
     "text": [
      "200\n"
     ]
    }
   ],
   "source": [
    "usuarios_0 = {\n",
    "    'username': 'jeqs',\n",
    "    'nacionalidad': 'col',\n",
    "    'puntuacion': 100\n",
    "}\n",
    "\n",
    "usuarios_1 = {\n",
    "    'username': 'jeqs_1',\n",
    "    'nacionalidad': 'col',\n",
    "    'puntuacion': 20\n",
    "}\n",
    "\n",
    "usuarios_2 = {\n",
    "    'username': 'jeqs_2',\n",
    "    'nacionalidad': 'col',\n",
    "    'puntuacion': 200\n",
    "}\n",
    "\n",
    "usuarios = [usuarios_0, usuarios_1, usuarios_2]\n",
    "\n",
    "print (usuarios[2]['puntuacion'])\n",
    "# print (usuarios)\n",
    "# print (type(usuarios))"
   ]
  },
  {
   "cell_type": "code",
   "execution_count": 78,
   "metadata": {},
   "outputs": [
    {
     "name": "stdout",
     "output_type": "stream",
     "text": [
      "tipo : ingredientes_v\n",
      "ingredientes : tofue\n",
      "ingredientes : matas\n",
      "tipo : ingredientes_a\n",
      "ingredientes : queso\n",
      "ingredientes : aceitunas\n"
     ]
    }
   ],
   "source": [
    "pizza = {\n",
    "    'ingredientes_v': ['tofue', \"matas\"],\n",
    "    'ingredientes_a': ['queso', \"aceitunas\"],\n",
    "}\n",
    "\n",
    "# print(pizza)\n",
    "\n",
    "for tipo, ingredientesv in pizza.items():\n",
    "    print(\"tipo :\", tipo)\n",
    "    for ingredientes in ingredientesv:\n",
    "        print(\"ingredientes :\", ingredientes)"
   ]
  },
  {
   "cell_type": "code",
   "execution_count": 84,
   "metadata": {},
   "outputs": [
    {
     "name": "stdout",
     "output_type": "stream",
     "text": [
      "username jquispe_0\n",
      "  user_info: jeqs_0 /home/0\n",
      "username jquispe_1\n",
      "  user_info: jeqs_1 /home/1\n",
      "username jquispe_2\n",
      "  user_info: jeqs_2 /home/2\n"
     ]
    }
   ],
   "source": [
    "dics_dics = {\n",
    "    'jquispe_0': {\n",
    "        'user': 'jeqs_0',\n",
    "        'pass': '12345',\n",
    "        'url': '/home/0',\n",
    "        },\n",
    "    'jquispe_1': {\n",
    "        'user': 'jeqs_1',\n",
    "        'pass': '12345',\n",
    "        'url': '/home/1',\n",
    "        },\n",
    "    'jquispe_2': {\n",
    "        'user': 'jeqs_2',\n",
    "        'pass': '12345',\n",
    "        'url': '/home/2', \n",
    "        },\n",
    "}\n",
    "\n",
    "for username, user_info in dics_dics.items():\n",
    "    print (\"username\", username)\n",
    "    print (\"  user_info:\", user_info['user'], user_info['url'])\n"
   ]
  }
 ],
 "metadata": {
  "kernelspec": {
   "display_name": "study",
   "language": "python",
   "name": "python3"
  },
  "language_info": {
   "codemirror_mode": {
    "name": "ipython",
    "version": 3
   },
   "file_extension": ".py",
   "mimetype": "text/x-python",
   "name": "python",
   "nbconvert_exporter": "python",
   "pygments_lexer": "ipython3",
   "version": "3.9.16"
  },
  "orig_nbformat": 4
 },
 "nbformat": 4,
 "nbformat_minor": 2
}
