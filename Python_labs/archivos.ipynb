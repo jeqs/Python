{
 "cells": [
  {
   "cell_type": "code",
   "execution_count": 4,
   "metadata": {},
   "outputs": [
    {
     "name": "stdout",
     "output_type": "stream",
     "text": [
      "Jose Quispe 1\n",
      "Jose Quispe 2\n"
     ]
    }
   ],
   "source": [
    "# Path: 'directorio\\archivo.txt'\n",
    "filename = 'archivo.txt'\n",
    "with open(filename) as archivo_obj:\n",
    "    contenido = archivo_obj.read()\n",
    "    print(contenido)"
   ]
  },
  {
   "cell_type": "code",
   "execution_count": 3,
   "metadata": {},
   "outputs": [
    {
     "name": "stdout",
     "output_type": "stream",
     "text": [
      "Jose Quispe 1\n",
      "\n",
      "Jose Quispe 2\n"
     ]
    }
   ],
   "source": [
    "with open(filename) as archivo_obj:\n",
    "    for linea in archivo_obj:\n",
    "        print(linea)"
   ]
  },
  {
   "cell_type": "code",
   "execution_count": 13,
   "metadata": {},
   "outputs": [
    {
     "name": "stdout",
     "output_type": "stream",
     "text": [
      "Jose Quispe 3\n"
     ]
    }
   ],
   "source": [
    "\n",
    "with open(filename) as archivo_obj:\n",
    "    for linea in archivo_obj.readlines():\n",
    "        print(linea.strip())"
   ]
  },
  {
   "cell_type": "code",
   "execution_count": 23,
   "metadata": {},
   "outputs": [],
   "source": [
    "\n",
    "with open(filename, 'w') as archivo_obj:\n",
    "    archivo_obj.write('Jose Quispe 1')"
   ]
  },
  {
   "cell_type": "code",
   "execution_count": null,
   "metadata": {},
   "outputs": [],
   "source": [
    "\n",
    "with open(filename, 'a') as archivo_obj:\n",
    "    for contador in range(10):\n",
    "        archivo_obj.write(f'\\n Jose Quispe {contador}')"
   ]
  },
  {
   "cell_type": "code",
   "execution_count": null,
   "metadata": {},
   "outputs": [],
   "source": [
    "archivo_obj = open(filename, 'r+')\n",
    "print(archivo_obj.read())"
   ]
  },
  {
   "cell_type": "code",
   "execution_count": 32,
   "metadata": {},
   "outputs": [
    {
     "name": "stdout",
     "output_type": "stream",
     "text": [
      "\n",
      " Jose Quispe 0, Jose Quispe 1\n",
      " Jose Quispe 1, Jose Quispe 2\n",
      " Jose Quispe 2, Jose Quispe 3\n",
      " Jose Quispe 3, Jose Quispe 4\n",
      " Jose Quispe 4, Jose Quispe 5\n",
      " Jose Quispe 5, Jose Quispe 6\n",
      " Jose Quispe 6, Jose Quispe 7\n",
      " Jose Quispe 7, Jose Quispe 8\n",
      " Jose Quispe 8, Jose Quispe 9\n",
      " Jose Quispe 9, Jose Quispe 10\n"
     ]
    }
   ],
   "source": [
    "archivo_obj = open(filename, 'w+')\n",
    "for contador in range(10):\n",
    "        archivo_obj.write(f'\\n Jose Quispe {contador}, Jose Quispe {contador + 1}')\n",
    "\n",
    "archivo_obj = open(filename, 'r+')\n",
    "print(archivo_obj.read())"
   ]
  },
  {
   "cell_type": "code",
   "execution_count": null,
   "metadata": {},
   "outputs": [],
   "source": [
    "import numpy as np;\n",
    "\n",
    "data = np.loadtxt(filename)\n",
    "print(data)"
   ]
  },
  {
   "cell_type": "code",
   "execution_count": 36,
   "metadata": {},
   "outputs": [
    {
     "ename": "ValueError",
     "evalue": "Expected 1D or 2D array, got 0D array instead",
     "output_type": "error",
     "traceback": [
      "\u001b[1;31m---------------------------------------------------------------------------\u001b[0m",
      "\u001b[1;31mValueError\u001b[0m                                Traceback (most recent call last)",
      "Cell \u001b[1;32mIn[36], line 3\u001b[0m\n\u001b[0;32m      1\u001b[0m \u001b[39mimport\u001b[39;00m \u001b[39mnumpy\u001b[39;00m \u001b[39mas\u001b[39;00m \u001b[39mnp\u001b[39;00m;\n\u001b[1;32m----> 3\u001b[0m data \u001b[39m=\u001b[39m np\u001b[39m.\u001b[39;49msavetxt(filename, \u001b[39m'\u001b[39;49m\u001b[39mJose Nuevo\u001b[39;49m\u001b[39m'\u001b[39;49m)\n",
      "File \u001b[1;32m~\\AppData\\Local\\Packages\\PythonSoftwareFoundation.Python.3.11_qbz5n2kfra8p0\\LocalCache\\local-packages\\Python311\\site-packages\\numpy\\lib\\npyio.py:1570\u001b[0m, in \u001b[0;36msavetxt\u001b[1;34m(fname, X, fmt, delimiter, newline, header, footer, comments, encoding)\u001b[0m\n\u001b[0;32m   1568\u001b[0m \u001b[39m# Handle 1-dimensional arrays\u001b[39;00m\n\u001b[0;32m   1569\u001b[0m \u001b[39mif\u001b[39;00m X\u001b[39m.\u001b[39mndim \u001b[39m==\u001b[39m \u001b[39m0\u001b[39m \u001b[39mor\u001b[39;00m X\u001b[39m.\u001b[39mndim \u001b[39m>\u001b[39m \u001b[39m2\u001b[39m:\n\u001b[1;32m-> 1570\u001b[0m     \u001b[39mraise\u001b[39;00m \u001b[39mValueError\u001b[39;00m(\n\u001b[0;32m   1571\u001b[0m         \u001b[39m\"\u001b[39m\u001b[39mExpected 1D or 2D array, got \u001b[39m\u001b[39m%d\u001b[39;00m\u001b[39mD array instead\u001b[39m\u001b[39m\"\u001b[39m \u001b[39m%\u001b[39m X\u001b[39m.\u001b[39mndim)\n\u001b[0;32m   1572\u001b[0m \u001b[39melif\u001b[39;00m X\u001b[39m.\u001b[39mndim \u001b[39m==\u001b[39m \u001b[39m1\u001b[39m:\n\u001b[0;32m   1573\u001b[0m     \u001b[39m# Common case -- 1d array of numbers\u001b[39;00m\n\u001b[0;32m   1574\u001b[0m     \u001b[39mif\u001b[39;00m X\u001b[39m.\u001b[39mdtype\u001b[39m.\u001b[39mnames \u001b[39mis\u001b[39;00m \u001b[39mNone\u001b[39;00m:\n",
      "\u001b[1;31mValueError\u001b[0m: Expected 1D or 2D array, got 0D array instead"
     ]
    }
   ],
   "source": [
    "import numpy as np;\n",
    "\n",
    "data = np.savetxt(filename, 'Jose Nuevo')"
   ]
  },
  {
   "cell_type": "code",
   "execution_count": 50,
   "metadata": {},
   "outputs": [],
   "source": [
    "import json\n",
    "\n",
    "numeros = [2, 3, 4, 7, 11, 13]\n",
    "filenameJson = 'numeros.json'\n",
    "\n",
    "archivo_obj = open(filenameJson, 'a')\n",
    "json.dump(numeros, archivo_obj)"
   ]
  },
  {
   "cell_type": "code",
   "execution_count": 58,
   "metadata": {},
   "outputs": [
    {
     "name": "stdout",
     "output_type": "stream",
     "text": [
      "[2, 3, 4, 7, 11, 13]\n",
      "<class 'list'>\n"
     ]
    }
   ],
   "source": [
    "filenameJson = 'numeros.json'\n",
    "archivo_r = open(filenameJson, 'r')\n",
    "numerosJson = json.load(archivo_r)\n",
    "print(numerosJson)\n",
    "print(type(numerosJson))"
   ]
  },
  {
   "cell_type": "code",
   "execution_count": 59,
   "metadata": {},
   "outputs": [
    {
     "name": "stdout",
     "output_type": "stream",
     "text": [
      "No se puede dividir por cero\n"
     ]
    }
   ],
   "source": [
    "#Excepciones\n",
    "try:\n",
    "    print(5/0)\n",
    "except ZeroDivisionError:\n",
    "    print(\"No se puede dividir por cero\")"
   ]
  },
  {
   "cell_type": "code",
   "execution_count": 62,
   "metadata": {},
   "outputs": [
    {
     "name": "stdout",
     "output_type": "stream",
     "text": [
      "Archivo no Existe\n"
     ]
    }
   ],
   "source": [
    "try:\n",
    "    archivo_r = open('text.text', 'r')\n",
    "    numerosJson = json.load(archivo_r)\n",
    "    print(numerosJson)\n",
    "    print(type(numerosJson))\n",
    "except FileNotFoundError:\n",
    "    print(\"Archivo no Existe\")\n",
    "\n"
   ]
  },
  {
   "cell_type": "code",
   "execution_count": 83,
   "metadata": {},
   "outputs": [
    {
     "name": "stdout",
     "output_type": "stream",
     "text": [
      "[2, 3, 4, 7, 11, 13]\n",
      "Archivo Existe\n",
      "Jeqs\n",
      "Archivo Existe\n"
     ]
    }
   ],
   "source": [
    "# def contar_palabras(nombreArchivo):\n",
    "archivos = ['numeros.json', 'archivo.txt', 'tal.txt']\n",
    "for nombreArchivo in archivos:\n",
    "    try:\n",
    "        archivo_r = open(nombreArchivo, 'r')\n",
    "    except FileNotFoundError:\n",
    "        # print(\"Archivo no Existe\")\n",
    "        pass\n",
    "    else:\n",
    "        data = archivo_r.read()\n",
    "        print(data)\n",
    "        print(\"Archivo Existe\")\n",
    "\n",
    "# archivos = ['numeros.json', 'archivo.txt']\n",
    "# for archivo in archivos:\n",
    "#     contar_palabras[archivo]\n"
   ]
  }
 ],
 "metadata": {
  "kernelspec": {
   "display_name": "Python 3",
   "language": "python",
   "name": "python3"
  },
  "language_info": {
   "codemirror_mode": {
    "name": "ipython",
    "version": 3
   },
   "file_extension": ".py",
   "mimetype": "text/x-python",
   "name": "python",
   "nbconvert_exporter": "python",
   "pygments_lexer": "ipython3",
   "version": "3.11.4"
  },
  "orig_nbformat": 4
 },
 "nbformat": 4,
 "nbformat_minor": 2
}
