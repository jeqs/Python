{
 "cells": [
  {
   "cell_type": "code",
   "execution_count": 4,
   "metadata": {},
   "outputs": [
    {
     "name": "stdout",
     "output_type": "stream",
     "text": [
      "listaFinal ['caballo']\n"
     ]
    }
   ],
   "source": [
    "listaPalabras = [\"perro\", \"gato\", \"caballo\", \"carro\", \"casa\"]\n",
    "prohibidas = [\"Z\", \"l\"]\n",
    "listaFinal = []\n",
    "\n",
    "for palabra in listaPalabras:\n",
    "    incluir = False\n",
    "    for pro in prohibidas:\n",
    "        if pro in palabra:\n",
    "            incluir = True\n",
    "            \n",
    "    if incluir:\n",
    "        listaFinal.append(palabra)\n",
    "\n",
    "print(\"listaFinal\", listaFinal)\n"
   ]
  },
  {
   "attachments": {},
   "cell_type": "markdown",
   "metadata": {},
   "source": [
    "Dado una lista de números enteros, escribe un script en Python que devuelva una nueva lista con\n",
    "los números primos de la lista original. Además, el script debe devolver el número total de\n",
    "números primos encontrados y la suma de los números primos encontrados "
   ]
  },
  {
   "cell_type": "code",
   "execution_count": 13,
   "metadata": {},
   "outputs": [
    {
     "name": "stdout",
     "output_type": "stream",
     "text": [
      "listaFinal [1, 2, 3, 5, 7]\n",
      "cantidad 5\n",
      "suma 18\n"
     ]
    }
   ],
   "source": [
    "listaNumeros = [1,2,3,4,5,6,7,8,9]\n",
    "listaPrimos = []\n",
    "\n",
    "for numero in listaNumeros:\n",
    "    primo = True\n",
    "    for contador in range(2, numero):\n",
    "        if numero % contador == 0:\n",
    "            primo = False\n",
    "            \n",
    "    if primo:\n",
    "        listaPrimos.append(numero)\n",
    "\n",
    "print(\"listaFinal\", listaPrimos)\n",
    "print(\"cantidad\", len(listaPrimos))\n",
    "print(\"suma\", sum(listaPrimos))\n"
   ]
  },
  {
   "attachments": {},
   "cell_type": "markdown",
   "metadata": {},
   "source": [
    "Supongamos una lista de de caracteres llamada “palabras“ que representa una mano de\n",
    "Scrabble. Cada string contiene dos caracteres: el primer carácter es la letra de una ficha y el\n",
    "segundo el numero que representa los puntos de la ficha. Por ejemplo, el string \"A5\" representa la\n",
    "ficha con la letra A y un valor de 5 puntos. Crea un script que calcule el valor total de los puntos\n",
    "en una mano de scrabble. El valor total será la suma de los puntos de todas las fichas de la mano. "
   ]
  },
  {
   "cell_type": "code",
   "execution_count": 16,
   "metadata": {},
   "outputs": [
    {
     "name": "stdout",
     "output_type": "stream",
     "text": [
      "puntos 24\n"
     ]
    }
   ],
   "source": [
    "palabras = [\"A5\", \"B2\", \"C4\", \"D3\", \"E10\"]\n",
    "puntos = 0\n",
    "for ficha in palabras:\n",
    "    puntos = puntos + int(ficha[1:])\n",
    "\n",
    "print (\"puntos\", puntos)\n"
   ]
  },
  {
   "attachments": {},
   "cell_type": "markdown",
   "metadata": {},
   "source": [
    "Eres un comercial trabajando para una compañía que vende diversos productos. Quieres crear un\n",
    "programa para realizar un seguimiento de los productos que has vendido y el valor total de las\n",
    "ventas. Supongamos que hay un total de 10 productos. \n"
   ]
  },
  {
   "cell_type": "code",
   "execution_count": 19,
   "metadata": {},
   "outputs": [
    {
     "name": "stdout",
     "output_type": "stream",
     "text": [
      "Total: 4460\n"
     ]
    }
   ],
   "source": [
    "listaProductos = [\"Pantalla\", \"Teclado\", \"Raton\", \"GPU\", \"CPU\"]\n",
    "listaPrecios = [1000, 150, 250, 320, 550]\n",
    "listaUnidadesVendidas = [1, 2, 0, 3, 4]\n",
    "listaSub = []\n",
    "\n",
    "subTotal = 0\n",
    "for contador in range(0, len(listaProductos)):\n",
    "    listaSub.append(listaPrecios[contador] * listaUnidadesVendidas[contador])\n",
    "    \n",
    "print (f\"Total: {sum(listaSub)}\")\n",
    "\n"
   ]
  },
  {
   "attachments": {},
   "cell_type": "markdown",
   "metadata": {},
   "source": [
    "Trabajas en colegio y estas encargado de mantener un seguimiento de las notas de los\n",
    "estudiantes de un clase. En tu base de datos tienes una lista con los nombres de los estudiantes y\n",
    "para cada estudiante debes guardar sus notas provenientes de deberes, exámenes y proyectos.\n",
    "También necesitas calcular a nota media de cada estudiante y la nota media de la clase al\n",
    "completo. \n",
    "\n",
    "Pista: Para resolver este problema puedes usar una lista anidada donde guardes las notas para\n",
    "cada estudiante. Entonces puedes usar un bucle para recorrer la lista de listas y calcular la nota\n",
    "media de cada estudiante. También puedes usar otro bucle para calcular la nota media de toda la\n",
    "clase. "
   ]
  },
  {
   "cell_type": "code",
   "execution_count": 27,
   "metadata": {},
   "outputs": [
    {
     "name": "stdout",
     "output_type": "stream",
     "text": [
      "estudiante: Jose, media 8.7525\n",
      "estudiante: Alejo, media 7.2775\n",
      "estudiante: Mariana, media 4.0\n",
      "estudiante: Yesica, media 6.0\n",
      "Media Clase: 6.51\n"
     ]
    }
   ],
   "source": [
    "notasJose = [10, 9, 8.5, 7.51]\n",
    "notasAlejo = [5, 9, 7, 8.11]\n",
    "notasMariana = [8, 5, 1, 2]\n",
    "notasYesica = [1, 3, 10, 10]\n",
    "notasMedia = []\n",
    "\n",
    "estudiantes = [ \n",
    "    [\"Jose\", notasJose], \n",
    "    [\"Alejo\", notasAlejo], \n",
    "    [\"Mariana\", notasMariana], \n",
    "    [\"Yesica\", notasYesica]\n",
    "    ]\n",
    "\n",
    "mediaEstudiante = 0\n",
    "mediaClase = 0\n",
    "\n",
    "for estudiante in estudiantes:\n",
    "    mediaEstudiante = sum(estudiante[1]) / len(estudiante[1])\n",
    "    notasMedia.append(mediaEstudiante)\n",
    "    print(f\"estudiante: {estudiante[0]}, media {mediaEstudiante}\")\n",
    "\n",
    "mediaClase = sum(notasMedia) / len (notasMedia)\n",
    "print(f\"Media Clase: {mediaClase :.2f}\")"
   ]
  },
  {
   "attachments": {},
   "cell_type": "markdown",
   "metadata": {},
   "source": [
    "Desarrolla un script que recibiendo de entrada una cadena de caracteres devuelva el texto\n",
    "codificado según el cifrado ROT13 "
   ]
  },
  {
   "cell_type": "code",
   "execution_count": 55,
   "metadata": {},
   "outputs": [
    {
     "name": "stdout",
     "output_type": "stream",
     "text": [
      "Letras h es Indice 8, ROT13 u\n",
      "Letras o es Indice 15, ROT13 b\n",
      "Letras l es Indice 12, ROT13 y\n",
      "Letras a es Indice 1, ROT13 n\n"
     ]
    }
   ],
   "source": [
    "alfabeto = \"abcdefghijklmnopqrstuvwxyz\"\n",
    "mensaje = \"hola\"\n",
    "char_indice = 0\n",
    "\n",
    "for char in mensaje:\n",
    "    for contador in range(len(alfabeto)):\n",
    "        if alfabeto[contador] == char:\n",
    "            char_indice = contador + 13\n",
    "            if char_indice >= 26 : \n",
    "                char_indice = char_indice - 26\n",
    "            print (f\"Letras {char} es Indice {contador + 1}, ROT13 {alfabeto[char_indice]}\")"
   ]
  },
  {
   "attachments": {},
   "cell_type": "markdown",
   "metadata": {},
   "source": [
    "Supongamos que eres el propietario de una tienda en línea y tienes una lista de ventas de los\n",
    "últimos 30 días. Quieres analizar las ventas por día de la semana para identificar los días de mayor\n",
    "venta. "
   ]
  },
  {
   "cell_type": "code",
   "execution_count": 115,
   "metadata": {},
   "outputs": [
    {
     "name": "stdout",
     "output_type": "stream",
     "text": [
      "Lunes total venta: 980\n",
      "Martes total venta: 910\n",
      "Miércoles total venta: 425\n",
      "Jueves total venta: 570\n",
      "Viernes total venta: 485\n",
      "Sábado total venta: 660\n",
      "Domingo total venta: 760\n"
     ]
    }
   ],
   "source": [
    "ventas = [120, 80, 140, 200, 75, 100, 180, 220, 160, 110, 90, 120, 170, 190, 250, 300, 95, 110,\n",
    "140, 180, 200, 160, 120, 80, 170, 150, 210, 190, 230, 250]\n",
    "dias_semana = [\"Lunes\", \"Martes\", \"Miércoles\", \"Jueves\", \"Viernes\", \"Sábado\", \"Domingo\"] \n",
    "\n",
    "ventas_totales = [0,0,0,0,0,0,0]\n",
    "\n",
    "dia_venta = 0\n",
    "for venta in ventas:\n",
    "    ventas_totales[dia_venta] = ventas_totales[dia_venta] + venta\n",
    "    dia_venta = dia_venta + 1\n",
    "    if dia_venta == 7:\n",
    "        dia_venta = 0\n",
    "\n",
    "    # print(dia_venta)\n",
    "for dia in range(0, len(dias_semana)):\n",
    "    print(f\"{dias_semana[dia]} total venta: {ventas_totales[dia]}\")\n"
   ]
  },
  {
   "attachments": {},
   "cell_type": "markdown",
   "metadata": {},
   "source": [
    "Supongamos que eres un administrador de sistemas y necesitas validar el acceso de los usuarios\n",
    "a un sitio web. Crea un script que verifique si el nombre de usuario y la contraseña ingresados son\n",
    "correctos y permita el acceso solo si ambos son correctos."
   ]
  },
  {
   "cell_type": "code",
   "execution_count": 121,
   "metadata": {},
   "outputs": [
    {
     "name": "stdout",
     "output_type": "stream",
     "text": [
      "usuario No valido\n"
     ]
    }
   ],
   "source": [
    "nombres_contrasenas = [ [\"juan123\",\"clave123\"] , [\"ana456\",\"clave456\"] , [\"pedro789\", \"clave7892\"] ] \n",
    "\n",
    "nombre_usuario = input(\"Ingresar nombre usuario: \")\n",
    "contrasena = input(\"Ingresar  contraseña: \")\n",
    "\n",
    "usuario_validor = False\n",
    "for usuario in nombres_contrasenas:\n",
    "    if usuario[0] == nombre_usuario and usuario[1] == contrasena:\n",
    "        usuario_validor = True\n",
    "\n",
    "if usuario_validor:\n",
    "    print(\"usuario valido\")\n",
    "else:\n",
    "    print(\"usuario No valido\")\n",
    "    \n"
   ]
  },
  {
   "cell_type": "code",
   "execution_count": 156,
   "metadata": {},
   "outputs": [
    {
     "name": "stdout",
     "output_type": "stream",
     "text": [
      "['clave456', 'pedro789', 'clave7892']\n"
     ]
    }
   ],
   "source": [
    "nombres_contrasenas = [ \"juan123\", \"clave123\", \"ana456\", \"clave456\" , \"pedro789\", \"clave7892\"] \n",
    "equi = nombres_contrasenas[-3::]\n",
    "print(equi)\n",
    "# del nombres_contrasenas\n",
    "# print(nombres_contrasenas)\n",
    "# print(nombres_contrasenas[::-1])"
   ]
  },
  {
   "cell_type": "code",
   "execution_count": 152,
   "metadata": {},
   "outputs": [
    {
     "name": "stdout",
     "output_type": "stream",
     "text": [
      "0\n",
      "1\n",
      "2\n"
     ]
    }
   ],
   "source": [
    "for i in range(5):\n",
    "    if i == 3:\n",
    "        break\n",
    "        # continue\n",
    "    print(i)\n"
   ]
  },
  {
   "cell_type": "code",
   "execution_count": 143,
   "metadata": {},
   "outputs": [
    {
     "name": "stdout",
     "output_type": "stream",
     "text": [
      "clave123 ana456\n"
     ]
    }
   ],
   "source": [
    "nombres_contrasenas = [ \"juan123\", \"clave123\", \"ana456\", \"clave456\" , \"pedro789\", \"clave7892\"] \n",
    "equi = nombres_contrasenas[:]\n",
    "# print(equi)\n",
    "print (nombres_contrasenas[1], nombres_contrasenas[2])"
   ]
  },
  {
   "cell_type": "code",
   "execution_count": 138,
   "metadata": {},
   "outputs": [
    {
     "name": "stdout",
     "output_type": "stream",
     "text": [
      "<class 'str'>\n"
     ]
    }
   ],
   "source": [
    "dato = input(\"insertar valor\")\n",
    "print(type(dato))"
   ]
  },
  {
   "cell_type": "code",
   "execution_count": 141,
   "metadata": {},
   "outputs": [
    {
     "name": "stdout",
     "output_type": "stream",
     "text": [
      "Hola\n"
     ]
    }
   ],
   "source": [
    "edad = 23\n",
    "nombre = \"David\"\n",
    "\n",
    "if nombre == \"David\" or edad > 20:\n",
    "    print(\"Hola\")\n",
    "\n",
    "else:\n",
    "    print(\"Quien?\")"
   ]
  },
  {
   "cell_type": "code",
   "execution_count": 150,
   "metadata": {},
   "outputs": [
    {
     "name": "stdout",
     "output_type": "stream",
     "text": [
      "['audi', 'bmw', 'seat']\n"
     ]
    }
   ],
   "source": [
    "numeros = [\"bmw\", \"audi\", \"seat\"] \n",
    "numeros.sort()\n",
    "print (numeros)"
   ]
  },
  {
   "cell_type": "code",
   "execution_count": 158,
   "metadata": {},
   "outputs": [
    {
     "name": "stdout",
     "output_type": "stream",
     "text": [
      "['juan123', 'clave123', 'ana456', 'clave456', 'pedro789', 'clave7892']\n"
     ]
    }
   ],
   "source": [
    "jugadores = [ \"juan123\", \"clave123\", \"ana456\", \"clave456\" , \"pedro789\", \"clave7892\"] \n",
    "equi = jugadores[:]\n",
    "equi.append(\"luis\")\n",
    "print(jugadores)"
   ]
  },
  {
   "cell_type": "code",
   "execution_count": 160,
   "metadata": {},
   "outputs": [
    {
     "name": "stdout",
     "output_type": "stream",
     "text": [
      "Juan123\n",
      "Clave123\n",
      "Ana456\n",
      "Clave456\n",
      "Pedro789\n",
      "Clave7892\n"
     ]
    }
   ],
   "source": [
    "jugadores = [ \"juan123\", \"clave123\", \"ana456\", \"clave456\" , \"pedro789\", \"clave7892\"] \n",
    "for i in range(0, len(jugadores)):\n",
    "    print(jugadores[i].title())"
   ]
  }
 ],
 "metadata": {
  "kernelspec": {
   "display_name": "Python 3",
   "language": "python",
   "name": "python3"
  },
  "language_info": {
   "codemirror_mode": {
    "name": "ipython",
    "version": 3
   },
   "file_extension": ".py",
   "mimetype": "text/x-python",
   "name": "python",
   "nbconvert_exporter": "python",
   "pygments_lexer": "ipython3",
   "version": "3.11.4"
  },
  "orig_nbformat": 4
 },
 "nbformat": 4,
 "nbformat_minor": 2
}
