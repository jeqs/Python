{
 "cells": [
  {
   "cell_type": "code",
   "execution_count": 2,
   "metadata": {},
   "outputs": [
    {
     "name": "stdout",
     "output_type": "stream",
     "text": [
      "Tado Incorrecto\n",
      "Tado Incorrecto\n",
      "Tado Incorrecto\n"
     ]
    }
   ],
   "source": [
    "while True:\n",
    "    try:\n",
    "        data = int(input(\"Ingresar Numero:\"))\n",
    "        break\n",
    "    except ValueError:\n",
    "        print(\"Dato Incorrecto\")\n",
    "    else:\n",
    "        print(\"Dato Correcto\")"
   ]
  },
  {
   "cell_type": "code",
   "execution_count": 3,
   "metadata": {},
   "outputs": [
    {
     "name": "stdout",
     "output_type": "stream",
     "text": [
      "0\n",
      "Archivo Existe\n",
      "1\n",
      "Archivo Existe\n",
      "Archivo no Existe\n"
     ]
    }
   ],
   "source": [
    "archivos = ['numeros.json', 'archivo.txt', 'tal.txt']\n",
    "for nombreArchivo in archivos:\n",
    "    try:\n",
    "        archivo_r = open(nombreArchivo, 'r')\n",
    "    except FileNotFoundError:\n",
    "        print(\"Archivo no Existe\")\n",
    "    else:\n",
    "        data = archivo_r.read()\n",
    "        contador = data.count('Jeqs')\n",
    "        print(contador)\n",
    "        print(\"Archivo Existe\")"
   ]
  },
  {
   "cell_type": "code",
   "execution_count": 11,
   "metadata": {},
   "outputs": [
    {
     "name": "stdout",
     "output_type": "stream",
     "text": [
      "<__main__.Fruta object at 0x00000261943F5510>\n",
      "amarillo\n",
      "<class '__main__.Fruta'>\n",
      "Roja\n",
      "mi fruta es platano es de color Roja\n",
      "None\n"
     ]
    }
   ],
   "source": [
    "class Fruta:\n",
    "    def __init__(self, nom = 'manzana', clr = 'Verde'):\n",
    "        self.nombre = nom\n",
    "        self.color = clr\n",
    "    def details(self):\n",
    "        print(f\"mi fruta es {self.nombre} es de color {self.color}\" )\n",
    "\n",
    "mi_fruta = Fruta(\"platano\", \"amarillo\")\n",
    "print(mi_fruta)\n",
    "print(mi_fruta.color)\n",
    "print(type(mi_fruta))\n",
    "\n",
    "mi_fruta.color = \"Roja\"\n",
    "print(mi_fruta.color)\n",
    "print(mi_fruta.details())"
   ]
  }
 ],
 "metadata": {
  "kernelspec": {
   "display_name": "Python 3",
   "language": "python",
   "name": "python3"
  },
  "language_info": {
   "codemirror_mode": {
    "name": "ipython",
    "version": 3
   },
   "file_extension": ".py",
   "mimetype": "text/x-python",
   "name": "python",
   "nbconvert_exporter": "python",
   "pygments_lexer": "ipython3",
   "version": "3.11.4"
  },
  "orig_nbformat": 4
 },
 "nbformat": 4,
 "nbformat_minor": 2
}
