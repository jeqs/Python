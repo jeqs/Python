{
 "cells": [
  {
   "cell_type": "code",
   "execution_count": 4,
   "metadata": {},
   "outputs": [
    {
     "name": "stdout",
     "output_type": "stream",
     "text": [
      "Renault\n",
      "1000\n",
      "Metodo privado\n",
      "None\n"
     ]
    }
   ],
   "source": [
    "class Coche:\n",
    "    def __init__(self, marca):\n",
    "        self.marca = marca\n",
    "        self.__costo = 1000\n",
    "\n",
    "    def __secreto(self):\n",
    "        print(\"Metodo privado\")\n",
    "\n",
    "micoche = Coche('Renault')\n",
    "print(micoche.marca)\n",
    "# print(micoche.__costo)\n",
    "print(micoche._Coche__costo)\n",
    "print(micoche._Coche__secreto())"
   ]
  }
 ],
 "metadata": {
  "kernelspec": {
   "display_name": "Python 3",
   "language": "python",
   "name": "python3"
  },
  "language_info": {
   "codemirror_mode": {
    "name": "ipython",
    "version": 3
   },
   "file_extension": ".py",
   "mimetype": "text/x-python",
   "name": "python",
   "nbconvert_exporter": "python",
   "pygments_lexer": "ipython3",
   "version": "3.11.4"
  },
  "orig_nbformat": 4
 },
 "nbformat": 4,
 "nbformat_minor": 2
}
