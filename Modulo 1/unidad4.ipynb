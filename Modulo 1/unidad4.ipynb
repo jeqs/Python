{
 "cells": [
  {
   "cell_type": "code",
   "execution_count": 5,
   "metadata": {},
   "outputs": [
    {
     "name": "stdout",
     "output_type": "stream",
     "text": [
      "<class 'list'>\n",
      "ultimo de la lista 3\n"
     ]
    }
   ],
   "source": [
    "lista = [1,2,3]\n",
    "print(type(lista))\n",
    "print(f\"ultimo de la lista {lista[-1]}\")"
   ]
  },
  {
   "cell_type": "code",
   "execution_count": 6,
   "metadata": {},
   "outputs": [
    {
     "name": "stdout",
     "output_type": "stream",
     "text": [
      "ultimo de la lista 4\n"
     ]
    }
   ],
   "source": [
    "lista = [1,2,3]\n",
    "lista.append(4)\n",
    "print(f\"ultimo de la lista {lista[-1]}\")"
   ]
  },
  {
   "cell_type": "code",
   "execution_count": 8,
   "metadata": {},
   "outputs": [
    {
     "name": "stdout",
     "output_type": "stream",
     "text": [
      "ultimo de la lista [4, 2, 3, 1]\n"
     ]
    }
   ],
   "source": [
    "lista = []\n",
    "lista.append(4)\n",
    "lista.append(2)\n",
    "lista.append(3)\n",
    "lista.append(1)\n",
    "print(f\"ultimo de la lista {lista}\")"
   ]
  },
  {
   "cell_type": "code",
   "execution_count": 10,
   "metadata": {},
   "outputs": [
    {
     "name": "stdout",
     "output_type": "stream",
     "text": [
      "ultimo de la lista [1, 4, 2, 3]\n"
     ]
    }
   ],
   "source": [
    "lista = []\n",
    "lista.append(4)\n",
    "lista.append(2)\n",
    "lista.append(3)\n",
    "lista.insert(0, 1)\n",
    "print(f\"ultimo de la lista {lista}\")"
   ]
  },
  {
   "cell_type": "code",
   "execution_count": 12,
   "metadata": {},
   "outputs": [
    {
     "name": "stdout",
     "output_type": "stream",
     "text": [
      "ultimo de la lista [2, 3]\n",
      "elemento eliminado 1\n"
     ]
    }
   ],
   "source": [
    "lista = []\n",
    "lista.append(1)\n",
    "valor_eliminado = lista.pop()\n",
    "lista.append(2)\n",
    "lista.append(3)\n",
    "print(f\"ultimo de la lista {lista}\")\n",
    "print(f\"elemento eliminado {valor_eliminado}\")"
   ]
  },
  {
   "cell_type": "code",
   "execution_count": 13,
   "metadata": {},
   "outputs": [
    {
     "name": "stdout",
     "output_type": "stream",
     "text": [
      "ultimo de la lista [1, 2]\n",
      "elemento eliminado 3\n"
     ]
    }
   ],
   "source": [
    "lista = []\n",
    "lista.append(1)\n",
    "lista.append(2)\n",
    "lista.append(3)\n",
    "\n",
    "valor_eliminado = lista.pop(2)\n",
    "print(f\"ultimo de la lista {lista}\")\n",
    "print(f\"elemento eliminado {valor_eliminado}\")"
   ]
  },
  {
   "cell_type": "code",
   "execution_count": 15,
   "metadata": {},
   "outputs": [
    {
     "name": "stdout",
     "output_type": "stream",
     "text": [
      "ultimo de la lista ['bwm', 'ford']\n",
      "elemento eliminado None\n"
     ]
    }
   ],
   "source": [
    "lista = []\n",
    "lista.append(\"bwm\")\n",
    "lista.append(\"audi\")\n",
    "lista.append(\"ford\")\n",
    "\n",
    "valor_eliminado = lista.remove(\"audi\")\n",
    "print(f\"ultimo de la lista {lista}\")\n",
    "print(f\"elemento eliminado {valor_eliminado}\")"
   ]
  },
  {
   "cell_type": "code",
   "execution_count": 21,
   "metadata": {},
   "outputs": [
    {
     "name": "stdout",
     "output_type": "stream",
     "text": [
      "ultimo de la lista ['bwm', 'audi', 'audi']\n"
     ]
    }
   ],
   "source": [
    "carros = [\"bwm\", \"audi\", \"ford\", \"audi\"]\n",
    "del carros[2]\n",
    "print(f\"ultimo de la lista {carros}\")"
   ]
  },
  {
   "cell_type": "code",
   "execution_count": 25,
   "metadata": {},
   "outputs": [
    {
     "name": "stdout",
     "output_type": "stream",
     "text": [
      "lista ['audi', 'audi 2', 'bwm', 'ford']\n"
     ]
    }
   ],
   "source": [
    "carros = [\"bwm\", \"audi\", \"ford\", \"audi 2\"]\n",
    "carros.sort()\n",
    "print(f\"lista {carros}\")"
   ]
  },
  {
   "cell_type": "code",
   "execution_count": 26,
   "metadata": {},
   "outputs": [
    {
     "name": "stdout",
     "output_type": "stream",
     "text": [
      "lista [2, 4, 5, 43]\n"
     ]
    }
   ],
   "source": [
    "carros = [5, 2, 4, 43]\n",
    "carros.sort()\n",
    "print(f\"lista {carros}\")"
   ]
  },
  {
   "cell_type": "code",
   "execution_count": 27,
   "metadata": {},
   "outputs": [
    {
     "name": "stdout",
     "output_type": "stream",
     "text": [
      "lista ordenada [2, 4, 5, 43]\n",
      "lista [5, 2, 4, 43]\n"
     ]
    }
   ],
   "source": [
    "carros = [5, 2, 4, 43]\n",
    "print(f\"lista ordenada {sorted(carros)}\")\n",
    "print(f\"lista {carros}\")"
   ]
  },
  {
   "cell_type": "code",
   "execution_count": 28,
   "metadata": {},
   "outputs": [
    {
     "name": "stdout",
     "output_type": "stream",
     "text": [
      "lista [43, 4, 2, 5]\n"
     ]
    }
   ],
   "source": [
    "carros = [5, 2, 4, 43]\n",
    "carros.reverse()\n",
    "print(f\"lista {carros}\")"
   ]
  },
  {
   "cell_type": "code",
   "execution_count": 29,
   "metadata": {},
   "outputs": [
    {
     "name": "stdout",
     "output_type": "stream",
     "text": [
      "lista 4\n"
     ]
    }
   ],
   "source": [
    "carros = [5, 2, 4, 43]\n",
    "print(f\"lista {len(carros)}\")"
   ]
  },
  {
   "cell_type": "code",
   "execution_count": 31,
   "metadata": {},
   "outputs": [
    {
     "ename": "IndexError",
     "evalue": "list index out of range",
     "output_type": "error",
     "traceback": [
      "\u001b[1;31m---------------------------------------------------------------------------\u001b[0m",
      "\u001b[1;31mIndexError\u001b[0m                                Traceback (most recent call last)",
      "Cell \u001b[1;32mIn[31], line 2\u001b[0m\n\u001b[0;32m      1\u001b[0m carros \u001b[39m=\u001b[39m [\u001b[39m5\u001b[39m, \u001b[39m2\u001b[39m, \u001b[39m4\u001b[39m, \u001b[39m43\u001b[39m]\n\u001b[1;32m----> 2\u001b[0m \u001b[39mprint\u001b[39m(\u001b[39mf\u001b[39m\u001b[39m\"\u001b[39m\u001b[39mlista \u001b[39m\u001b[39m{\u001b[39;00mcarros[\u001b[39m5\u001b[39;49m]\u001b[39m}\u001b[39;00m\u001b[39m\"\u001b[39m)\n",
      "\u001b[1;31mIndexError\u001b[0m: list index out of range"
     ]
    }
   ],
   "source": [
    "carros = [5, 2, 4, 43]\n",
    "print(f\"lista {carros[5]}\")"
   ]
  },
  {
   "cell_type": "code",
   "execution_count": 32,
   "metadata": {},
   "outputs": [
    {
     "name": "stdout",
     "output_type": "stream",
     "text": [
      "Su carro audi True en la lista\n"
     ]
    }
   ],
   "source": [
    "carros = [\"bwm\", \"audi\", \"ford\", \"audi 2\"]\n",
    "my_carro = \"audi\"\n",
    "print (f\"Su carro {my_carro} {my_carro in carros} en la lista\")"
   ]
  },
  {
   "cell_type": "code",
   "execution_count": null,
   "metadata": {},
   "outputs": [],
   "source": [
    "import time\n",
    "temporizador = int(input(\"ingresar segundo detener temporizador: \"))\n",
    "print(\"inicio temporizador\")\n",
    "while (temporizador > 0):\n",
    "    print (f\"T -{temporizador} Segundos\")\n",
    "    time.sleep(1)\n",
    "    temporizador = temporizador - 1\n",
    "\n",
    "print (\"fin\")\n"
   ]
  },
  {
   "cell_type": "code",
   "execution_count": 35,
   "metadata": {},
   "outputs": [
    {
     "name": "stdout",
     "output_type": "stream",
     "text": [
      "valor 5\n",
      "valor 2\n",
      "valor 4\n",
      "valor 43\n"
     ]
    }
   ],
   "source": [
    "lista = [5, 2, 4, 43]\n",
    "\n",
    "for contador in range(0, len(lista), 1):\n",
    "    print(f\"valor {lista[contador]}\")"
   ]
  },
  {
   "cell_type": "code",
   "execution_count": 39,
   "metadata": {},
   "outputs": [
    {
     "name": "stdout",
     "output_type": "stream",
     "text": [
      "inicio temporizador\n",
      "T -2 Segundos\n",
      "T -1 Segundos\n",
      "fin\n"
     ]
    }
   ],
   "source": [
    "import time\n",
    "temporizador = int(input(\"ingresar segundo detener temporizador: \"))\n",
    "print(\"inicio temporizador\")\n",
    "\n",
    "for contador in range(0, temporizador, 1):\n",
    "   print (f\"T -{temporizador} Segundos\")\n",
    "   time.sleep(1)\n",
    "   temporizador = temporizador - 1\n",
    "\n",
    "print (\"fin\")"
   ]
  },
  {
   "cell_type": "code",
   "execution_count": 40,
   "metadata": {},
   "outputs": [
    {
     "name": "stdout",
     "output_type": "stream",
     "text": [
      "inicio temporizador\n",
      "T -15 Segundos\n",
      "T -14 Segundos\n",
      "T -13 Segundos\n",
      "T -12 Segundos\n",
      "T -11 Segundos\n",
      "fin\n"
     ]
    }
   ],
   "source": [
    "import time\n",
    "temporizador = int(input(\"ingresar segundo detener temporizador: \"))\n",
    "print(\"inicio temporizador\")\n",
    "\n",
    "for contador in range(0, temporizador, 1):\n",
    "   print (f\"T -{temporizador} Segundos\")\n",
    "   time.sleep(1)\n",
    "   temporizador = temporizador - 1\n",
    "   if (temporizador == 10):\n",
    "    break\n",
    "\n",
    "print (\"fin\")"
   ]
  },
  {
   "cell_type": "code",
   "execution_count": 41,
   "metadata": {},
   "outputs": [
    {
     "name": "stdout",
     "output_type": "stream",
     "text": [
      "inicio temporizador\n",
      "T -5 Segundos\n",
      "T -4 Segundos\n",
      "T -3 Segundos\n",
      "T -2 Segundos\n",
      "T -1 Segundos\n",
      "fin\n"
     ]
    }
   ],
   "source": [
    "import time\n",
    "temporizador = int(input(\"ingresar segundo detener temporizador: \"))\n",
    "print(\"inicio temporizador\")\n",
    "\n",
    "for contador in range(0, temporizador, 1):\n",
    "   print (f\"T -{temporizador} Segundos\")\n",
    "   time.sleep(1)\n",
    "   temporizador = temporizador - 1\n",
    "   if (temporizador == 2):\n",
    "    continue\n",
    "\n",
    "print (\"fin\")"
   ]
  },
  {
   "cell_type": "code",
   "execution_count": 45,
   "metadata": {},
   "outputs": [
    {
     "name": "stdout",
     "output_type": "stream",
     "text": [
      "Es Numerico:False\n"
     ]
    }
   ],
   "source": [
    "valor = input(\"ingresar segundo detener temporizador: \")\n",
    "print (f\"Es Numerico:{valor.isnumeric()}\")"
   ]
  },
  {
   "cell_type": "code",
   "execution_count": 14,
   "metadata": {},
   "outputs": [
    {
     "name": "stdout",
     "output_type": "stream",
     "text": [
      "*    \n",
      "**    \n",
      "***    \n",
      "****    \n",
      "*****    \n",
      "****    \n",
      "***    \n",
      "**    \n",
      "*    \n"
     ]
    }
   ],
   "source": [
    "valor = int(input(\"ingresar valor: \"))\n",
    "for contador in range(1, valor + 1):\n",
    "    print(\"*\" * contador    + \" \" * (valor - 1))\n",
    "for contador in range(valor - 1, 0, -1):\n",
    "    print(\"*\" * contador    + \" \" * (valor - 1))"
   ]
  },
  {
   "cell_type": "code",
   "execution_count": 18,
   "metadata": {},
   "outputs": [],
   "source": [
    "passwordA = input(\"Contraseña actual: \")\n",
    "passwordN = input(\"Contraseña nueva : \")\n",
    "while (passwordA != passwordN):\n",
    "    passwordN = input(\"Ingresar Contraseña nueva : \")"
   ]
  },
  {
   "cell_type": "code",
   "execution_count": 33,
   "metadata": {},
   "outputs": [
    {
     "name": "stdout",
     "output_type": "stream",
     "text": [
      "s\n",
      "q\n",
      "e\n",
      "J\n"
     ]
    }
   ],
   "source": [
    "palabra = input(\"Introducor Palabra: \")\n",
    "for contador in range(len(palabra), 0, -1):\n",
    "    print (f\"{palabra[contador - 1]}\")"
   ]
  },
  {
   "cell_type": "code",
   "execution_count": 37,
   "metadata": {},
   "outputs": [
    {
     "name": "stdout",
     "output_type": "stream",
     "text": [
      "Hay 4\n"
     ]
    }
   ],
   "source": [
    "frase = input(\"Introducir Frase: \")\n",
    "letra = input(\"Introducir Letra: \")\n",
    "veces = int(0)\n",
    "\n",
    "for contador in range(0, len(frase)):\n",
    "    if letra in frase[contador]:\n",
    "        veces = veces + 1\n",
    "\n",
    "print (f\"Hay {veces}\") "
   ]
  },
  {
   "cell_type": "code",
   "execution_count": null,
   "metadata": {},
   "outputs": [],
   "source": [
    "primo = True\n",
    "for contador in range(2, 101):\n",
    "    primo = True\n",
    "    for contadorDiv in range(2, contador):\n",
    "        # print (f\"contador {contador} contadorDiv {contadorDiv}\")\n",
    "        if contador % contadorDiv == 0:\n",
    "            primo = False\n",
    "            break\n",
    "    if primo:\n",
    "        print (f\"Primo: {contador}\")\n",
    "            \n",
    "            "
   ]
  },
  {
   "cell_type": "code",
   "execution_count": 87,
   "metadata": {},
   "outputs": [
    {
     "name": "stdout",
     "output_type": "stream",
     "text": [
      "7\n",
      "cereza\n",
      "['uva', 'manzana', 'mora', 'cereza', 'pera', 'higo', 'frambuesa', 'fresa', 'mango']\n",
      "mango\n",
      "[]\n"
     ]
    }
   ],
   "source": [
    "lista = [\"manzana\", \"plátano\", \"cereza\", \"pera\", \"higo\", \"frambuesa\", \"fresa\"]\n",
    "print(f\"{len(lista)}\")\n",
    "print(f\"{lista[2]}\")\n",
    "lista[1] = \"mora\"\n",
    "lista.append(\"mango\")\n",
    "lista.insert(0, \"uva\")\n",
    "print(f\"{lista}\")\n",
    "ultima = lista.pop()\n",
    "print(f\"{ultima}\")\n",
    "lista.remove(\"cereza\")\n",
    "lista.clear()\n",
    "print(f\"{lista}\")"
   ]
  },
  {
   "attachments": {},
   "cell_type": "markdown",
   "metadata": {},
   "source": [
    "Escribe un programa en Python para encontrar los elementos duplicados de una lista,\n",
    "añadirlos a una nueva lista y borrarlos de la lista. Después imprime una lista con tan solo los\n",
    "elementos únicos."
   ]
  },
  {
   "cell_type": "code",
   "execution_count": 107,
   "metadata": {},
   "outputs": [
    {
     "name": "stdout",
     "output_type": "stream",
     "text": [
      "[3, 4, 5, 7]\n",
      "[1, 3, 4, 5, 6, 7, 8, 9]\n"
     ]
    }
   ],
   "source": [
    "lista = [1,4,6,7,5,4,3,3,5,7,8,9]\n",
    "lista = sorted(lista)\n",
    "listaUnicos = []\n",
    "listaDuplicados = []\n",
    "valor = 0\n",
    "for contador in range(0, len(lista)):\n",
    "    if valor != lista[contador]:\n",
    "        valor = lista[contador]\n",
    "        listaUnicos.append(valor)\n",
    "    else:\n",
    "        listaDuplicados.append(valor)\n",
    "\n",
    "for contador in range(0, len(listaDuplicados)):\n",
    "    if listaDuplicados[contador] in lista:\n",
    "        lista.remove(listaDuplicados[contador])\n",
    "\n",
    "print (f\"{listaDuplicados}\")\n",
    "print (f\"{lista}\")\n",
    "\n"
   ]
  },
  {
   "cell_type": "code",
   "execution_count": 109,
   "metadata": {},
   "outputs": [
    {
     "name": "stdout",
     "output_type": "stream",
     "text": [
      "[1, 1, 3, 3, 3, 3, 4, 4, 4, 4, 5, 5, 5, 5, 6, 6, 7, 7, 7, 7, 8, 8, 9, 9]\n"
     ]
    }
   ],
   "source": [
    "lista1 = [1,4,6,7,5,4,3,3,5,7,8,9]\n",
    "lista2 = [1,4,6,7,5,4,3,3,5,7,8,9]\n",
    "lista3 = lista1 + lista2\n",
    "lista3.sort()\n",
    "print(lista3)"
   ]
  },
  {
   "cell_type": "code",
   "execution_count": 110,
   "metadata": {},
   "outputs": [
    {
     "name": "stdout",
     "output_type": "stream",
     "text": [
      "8\n",
      "[9, 8, 7, 7, 6, 5, 5, 4, 4, 3, 3, 1]\n"
     ]
    }
   ],
   "source": [
    "lista1 = [1,4,6,7,5,4,3,3,5,7,8,9]\n",
    "lista1.sort(reverse=True)\n",
    "print(lista1[1])\n",
    "print(lista1)"
   ]
  },
  {
   "cell_type": "code",
   "execution_count": 113,
   "metadata": {},
   "outputs": [
    {
     "name": "stdout",
     "output_type": "stream",
     "text": [
      "7\n",
      "[9, 8, 7, 7, 6, 5, 5, 4, 4, 3, 3, 1]\n"
     ]
    }
   ],
   "source": [
    "numero = int(input(\"Introducir numero: \"))\n",
    "\n",
    "lista1 = [1,4,6,7,5,4,3,3,5,7,8,9]\n",
    "lista1.sort(reverse=True)\n",
    "print(lista1[numero])\n",
    "print(lista1)\n"
   ]
  },
  {
   "cell_type": "code",
   "execution_count": 115,
   "metadata": {},
   "outputs": [
    {
     "name": "stdout",
     "output_type": "stream",
     "text": [
      "[1]\n"
     ]
    }
   ],
   "source": [
    "lista1 = [1,6,4,3,7,8,9,0]\n",
    "lista2 = [1,2]\n",
    "comun = []\n",
    "\n",
    "for contador in range(0, len(lista1)):\n",
    "    if lista1[contador] in lista2:\n",
    "        comun.append(lista1[contador])\n",
    "\n",
    "print (comun)"
   ]
  }
 ],
 "metadata": {
  "kernelspec": {
   "display_name": "work",
   "language": "python",
   "name": "python3"
  },
  "language_info": {
   "codemirror_mode": {
    "name": "ipython",
    "version": 3
   },
   "file_extension": ".py",
   "mimetype": "text/x-python",
   "name": "python",
   "nbconvert_exporter": "python",
   "pygments_lexer": "ipython3",
   "version": "3.10.11"
  },
  "orig_nbformat": 4
 },
 "nbformat": 4,
 "nbformat_minor": 2
}
