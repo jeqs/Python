{
 "cells": [
  {
   "cell_type": "code",
   "execution_count": 5,
   "metadata": {},
   "outputs": [
    {
     "name": "stdout",
     "output_type": "stream",
     "text": [
      "Jose 41 Ing\n",
      "Maria 30 Abogado\n"
     ]
    }
   ],
   "source": [
    "class Persona:\n",
    "    def __init__(self, nombre, edad, profesion):\n",
    "        self.nombre = nombre\n",
    "        self.edad = edad\n",
    "        self.profesion = profesion\n",
    "\n",
    "persona1 = Persona(\"Jose\", 41, \"Ing\")\n",
    "persona2 = Persona(\"Maria\", 30, \"Abogado\")\n",
    "\n",
    "print (persona1.nombre, persona1.edad, persona1.profesion)\n",
    "print (persona2.nombre, persona2.edad, persona2.profesion)\n",
    "\n"
   ]
  },
  {
   "cell_type": "code",
   "execution_count": 12,
   "metadata": {},
   "outputs": [
    {
     "name": "stdout",
     "output_type": "stream",
     "text": [
      "30\n",
      "-10\n",
      "200\n",
      "0.5\n"
     ]
    }
   ],
   "source": [
    "class Calculadora:\n",
    "    def sumar(self, numeroUno, numeroDos):\n",
    "        return numeroUno + numeroDos\n",
    "    def restar(self, numeroUno, numeroDos):\n",
    "        return numeroUno - numeroDos\n",
    "    def multiplicar(self, numeroUno, numeroDos):\n",
    "        return numeroUno * numeroDos\n",
    "    def difivir(self, numeroUno, numeroDos):\n",
    "        return numeroUno / numeroDos\n",
    "\n",
    "calculadora = Calculadora()\n",
    "print(calculadora.sumar(10, 20))\n",
    "print(calculadora.restar(10, 20))\n",
    "print(calculadora.multiplicar(10, 20))\n",
    "print(calculadora.difivir(10, 20))"
   ]
  },
  {
   "cell_type": "code",
   "execution_count": 15,
   "metadata": {},
   "outputs": [
    {
     "name": "stdout",
     "output_type": "stream",
     "text": [
      "50 años soledad Gabo 1990\n",
      "La Maria Jorge Isaac 1982\n"
     ]
    }
   ],
   "source": [
    "class Libro:\n",
    "    def __init__(self, titulo, autor, anio):\n",
    "        self.titulo = titulo\n",
    "        self.autor = autor\n",
    "        self.anio = anio\n",
    "\n",
    "libro1 = Libro(\"50 años soledad\", \"Gabo\", 1990)\n",
    "libro2 = Libro(\"La Maria\", \"Jorge Isaac\", 1982)\n",
    "\n",
    "print (libro1.titulo, libro1.autor, libro1.anio)\n",
    "print (libro2.titulo, libro2.autor, libro2.anio)"
   ]
  },
  {
   "cell_type": "code",
   "execution_count": 17,
   "metadata": {},
   "outputs": [
    {
     "name": "stdout",
     "output_type": "stream",
     "text": [
      "15\n",
      "16\n"
     ]
    }
   ],
   "source": [
    "class Rectangulo:\n",
    "    def __init__(self, longitud, ancho):\n",
    "        self.longitud = longitud\n",
    "        self.ancho = ancho\n",
    "\n",
    "    def calcular_area(self):\n",
    "        return self.longitud * self.ancho\n",
    "    \n",
    "    def calcular_perimetro(self):\n",
    "        return 2 * (self.longitud + self.ancho)\n",
    "    \n",
    "rectangulo = Rectangulo(5,3)\n",
    "print(rectangulo.calcular_area())\n",
    "print(rectangulo.calcular_perimetro())"
   ]
  },
  {
   "cell_type": "code",
   "execution_count": 39,
   "metadata": {},
   "outputs": [
    {
     "name": "stdout",
     "output_type": "stream",
     "text": [
      "6\n",
      "6\n"
     ]
    }
   ],
   "source": [
    "import random\n",
    "\n",
    "class Dado:\n",
    "    def lanzar_dado(self):\n",
    "        return random.randint(1,6)\n",
    "\n",
    "dado1 = Dado()\n",
    "dado2 = Dado()\n",
    "\n",
    "print(dado1.lanzar_dado())\n",
    "print(dado2.lanzar_dado())"
   ]
  },
  {
   "cell_type": "code",
   "execution_count": 73,
   "metadata": {},
   "outputs": [
    {
     "name": "stdout",
     "output_type": "stream",
     "text": [
      "Su auto de Marca: Renault fue creado en el Año: 2016\n",
      "Su kilometraje es: 100\n",
      "No se puede actualizar kilometraje a uno menor\n",
      "Su kilometraje es: 100\n",
      "True\n",
      "False\n",
      "12 galones\n",
      "Su auto de Marca: tesla fue creado en el Año: 2013\n",
      "1000 wats\n",
      "Los autos electicos No tiene tanque de GAS en  {'__main__'}\n",
      "__main__\n"
     ]
    }
   ],
   "source": [
    "class Carro:\n",
    "    def __init__(self, marca, modelo, anio):\n",
    "        self.marca = marca\n",
    "        self.modelo = modelo\n",
    "        self.anio = anio\n",
    "        self.encendido = False\n",
    "        self.kilometraje = 0\n",
    "    \n",
    "    def descripcion_extensa(self):\n",
    "        return f\"Su auto de Marca: {self.marca } fue creado en el Año: {str(self.anio)}\"\n",
    "    \n",
    "    def leer_kilometraje(self):\n",
    "        return f\"Su kilometraje es: {self.kilometraje}\"\n",
    "    \n",
    "    def actualizar_kilometraje(self, kilometro):\n",
    "        if kilometro < self.kilometraje:\n",
    "            print (\"No se puede actualizar kilometraje a uno menor\")\n",
    "        else:\n",
    "            self.kilometraje += kilometro\n",
    "\n",
    "    def encender(self):\n",
    "        self.encendido = True\n",
    "    \n",
    "    def apagado(self):\n",
    "        self.encendido = False\n",
    "\n",
    "    def tanquear(self):\n",
    "        self.gasolina = \"12 galones\"\n",
    "\n",
    "carro = Carro('Renault', 'RX', 2016)\n",
    "print(carro.descripcion_extensa())\n",
    "\n",
    "carro.actualizar_kilometraje(100)\n",
    "print(carro.leer_kilometraje())\n",
    "\n",
    "carro.actualizar_kilometraje(50)\n",
    "print(carro.leer_kilometraje())\n",
    "\n",
    "carro.encender()\n",
    "print(carro.encendido)\n",
    "\n",
    "carro.apagado()\n",
    "print(carro.encendido)\n",
    "\n",
    "carro.tanquear()\n",
    "print(carro.gasolina)\n",
    "\n",
    "class Bateria():\n",
    "    def __init__(self):\n",
    "        self.bateria = \"1000 wats\"\n",
    "\n",
    "class CarroElectrico(Carro):\n",
    "    def __init__(self, marca, modelo, anio):\n",
    "        super().__init__(marca, modelo, anio)\n",
    "        self.bateria = Bateria().bateria\n",
    "    \n",
    "    def tanquear(self):\n",
    "        print (f\"Los autos electicos No tiene tanque de GAS en \", {__name__})\n",
    "\n",
    "    \n",
    "mi_tesla = CarroElectrico(\"tesla\", \"modelo s\", 2013)\n",
    "print(mi_tesla.descripcion_extensa())\n",
    "print(mi_tesla.bateria)\n",
    "mi_tesla.tanquear()\n",
    "\n",
    "print(__name__)"
   ]
  },
  {
   "cell_type": "code",
   "execution_count": 9,
   "metadata": {},
   "outputs": [
    {
     "name": "stdout",
     "output_type": "stream",
     "text": [
      "No tiene fondos\n",
      "None\n",
      "Su saldo actual es : 50\n"
     ]
    }
   ],
   "source": [
    "class CuentaBancaria:\n",
    "    def __init__(self, numeroCuenta, saldo = 0):\n",
    "        self.numeroCuenta = numeroCuenta\n",
    "        self.saldo = saldo\n",
    "        \n",
    "    def consultar_saldo(self):\n",
    "        return f\"Su saldo actual es : {self.saldo}\"\n",
    "    \n",
    "    def depositar(self, deposito):\n",
    "        self.saldo += deposito\n",
    "    \n",
    "    def retirar(self, retiro):\n",
    "        if retiro <= self.saldo:\n",
    "            self.saldo -= retiro\n",
    "        else:\n",
    "            return \"No tiene fondos\"\n",
    "        \n",
    "mi_cuenta = CuentaBancaria(1234567689)\n",
    "mi_cuenta.depositar(100)\n",
    "print(mi_cuenta.retirar(200))\n",
    "print(mi_cuenta.retirar(50))\n",
    "print(mi_cuenta.consultar_saldo())"
   ]
  },
  {
   "cell_type": "code",
   "execution_count": 14,
   "metadata": {},
   "outputs": [
    {
     "name": "stdout",
     "output_type": "stream",
     "text": [
      "1. leer - Pendiente\n",
      "2. escribir - Pendiente\n",
      "1. leer - Pendiente\n",
      "2. escribir - completada\n"
     ]
    }
   ],
   "source": [
    "class GestionarTareas:\n",
    "    def __init__(self):\n",
    "        self.tareas = []\n",
    "        \n",
    "    def agregar_tarea(self, tarea):\n",
    "        self.tareas.append({\n",
    "            \"tarea\" : tarea,\n",
    "            \"completada\": False\n",
    "        })\n",
    "        return f\"Tarea Agregada correctamente\"\n",
    "    \n",
    "    def completar_tarea(self, indice):\n",
    "        if 0 <= indice < len(self.tareas):\n",
    "            self.tareas[indice][\"completada\"] = True\n",
    "    \n",
    "    def mostrar_tareas(self):\n",
    "        for indice, tarea in enumerate(self.tareas):\n",
    "            estado = \"completada\" if tarea[\"completada\"] else \"Pendiente\"\n",
    "            print (f\"{indice + 1}. {tarea['tarea']} - {estado}\")\n",
    "\n",
    "gestion = GestionarTareas()\n",
    "gestion.agregar_tarea(\"leer\")\n",
    "gestion.agregar_tarea(\"escribir\")\n",
    "gestion.mostrar_tareas()\n",
    "gestion.completar_tarea(1)\n",
    "gestion.mostrar_tareas()"
   ]
  },
  {
   "cell_type": "code",
   "execution_count": 30,
   "metadata": {},
   "outputs": [
    {
     "name": "stdout",
     "output_type": "stream",
     "text": [
      "1. manzanas - 100\n",
      "2. peras - 30\n",
      "Producto sin Stock\n",
      "Producto no encontrado\n",
      "Producto encontrado\n",
      "Producto no encontrado\n",
      "1. manzanas - 100\n",
      "2. peras - 30\n"
     ]
    }
   ],
   "source": [
    "class Tienda:\n",
    "    def __init__(self):\n",
    "        self.productos = []\n",
    "        \n",
    "    def agregar_producto(self, producto, precio, cantidad):\n",
    "        self.productos.append({\n",
    "            \"producto\" : producto,\n",
    "            \"precio\": precio,\n",
    "            \"cantidad\": cantidad\n",
    "        })\n",
    "        return f\"Producto agregado correctamente\"\n",
    "    \n",
    "    def realizar_compra(self, indice, cantidad):\n",
    "        if 0 <= indice < len(self.productos):\n",
    "            if cantidad <= self.productos[indice][\"cantidad\"]:\n",
    "                self.productos[indice][\"cantidad\"] -=cantidad\n",
    "            else:\n",
    "                return print(f\"Producto sin Stock\")\n",
    "\n",
    "    def mostrar_productos(self):\n",
    "        for indice, producto in enumerate(self.productos):\n",
    "            print (f\"{indice + 1}. {producto['producto']} - {producto['cantidad']}\")\n",
    "\n",
    "    def buscar_productos(self, nombre):\n",
    "        for producto in self.productos:\n",
    "            if producto[\"producto\"] == nombre:\n",
    "                print (\"Producto encontrado\")\n",
    "            else:\n",
    "                print (\"Producto no encontrado\")\n",
    "                return\n",
    "\n",
    "mi_tienda = Tienda()\n",
    "mi_tienda.agregar_producto('manzanas', 1000, 100)\n",
    "mi_tienda.agregar_producto('peras', 2000, 30)\n",
    "mi_tienda.mostrar_productos()\n",
    "mi_tienda.realizar_compra(1, 40)\n",
    "mi_tienda.buscar_productos('casa')\n",
    "mi_tienda.buscar_productos('manzanas')\n",
    "mi_tienda.mostrar_productos()"
   ]
  },
  {
   "cell_type": "code",
   "execution_count": 34,
   "metadata": {},
   "outputs": [
    {
     "name": "stdout",
     "output_type": "stream",
     "text": [
      "Elemento 1 agregado correctamente\n",
      "Elemento 10 agregado correctamente\n",
      "Elemento 15 agregado correctamente\n",
      "Elementos de la Pila: [1, 10, 15]\n",
      "Elemento eliminado correctamente\n",
      "Elementos de la Pila: [1, 10]\n"
     ]
    }
   ],
   "source": [
    "class Pilas:\n",
    "    def __init__(self):\n",
    "        self.items = []\n",
    "        \n",
    "    def agregar(self, item):\n",
    "        self.items.append(item)\n",
    "        return print(f\"Elemento {item} agregado correctamente\")\n",
    "    \n",
    "    def retirar(self):\n",
    "        if not self.esta_vacia():\n",
    "            self.items.pop()\n",
    "        else:\n",
    "            print (\"Pila vacia\")\n",
    "        \n",
    "        return print(f\"Elemento eliminado correctamente\")\n",
    "    \n",
    "    def esta_vacia(self):\n",
    "        return len(self.items) == 0\n",
    "\n",
    "    def mostrar(self):\n",
    "        print (f\"Elementos de la Pila: {self.items}\")\n",
    "\n",
    "mi_pila = Pilas()\n",
    "mi_pila.agregar(1)\n",
    "mi_pila.agregar(10)\n",
    "mi_pila.agregar(15)\n",
    "mi_pila.mostrar()\n",
    "mi_pila.retirar()\n",
    "mi_pila.mostrar()"
   ]
  },
  {
   "cell_type": "code",
   "execution_count": 54,
   "metadata": {},
   "outputs": [
    {
     "name": "stdout",
     "output_type": "stream",
     "text": [
      "Usuario Jose agregado correctamente\n",
      "Libro La vida es bella agregado correctamente\n",
      "Libro Cien años de soledad agregado correctamente\n",
      "Libro agregado correctamente a la biblioteca\n",
      "Libro agregado correctamente a la biblioteca\n",
      "Libros de la biblioteca: La vida es bella\n",
      "Libros de la biblioteca: Cien años de soledad\n",
      "Libro encontrado La vida es bella - Disponibles: 99\n",
      "Libro no encontrado\n",
      "Usuario: Jose, [<__main__.Libros object at 0x00000239F11ACB20>]\n",
      "Libros prestados: La vida es bella\n"
     ]
    }
   ],
   "source": [
    "class Usuarios:\n",
    "    def __init__(self, nombre, id):\n",
    "        self.nombre = nombre\n",
    "        self.id = id\n",
    "        self.libros_prestados = []\n",
    "\n",
    "        return print(f\"Usuario {nombre} agregado correctamente\")\n",
    "    \n",
    "    def mostrar_usuario(self):\n",
    "        print(f\"Usuario: {self.nombre}, {self.libros_prestados}\")\n",
    "        \n",
    "        for libro in self.libros_prestados:\n",
    "            print(f\"Libros prestados: {libro.titulo}\")\n",
    "    \n",
    "class Libros:\n",
    "    def __init__(self, titulo, autor, ejemplares_disponibles):\n",
    "        self.titulo = titulo\n",
    "        self.autor = autor\n",
    "        self.ejemplares_disponibles = ejemplares_disponibles\n",
    "\n",
    "        return print(f\"Libro {titulo} agregado correctamente\")\n",
    "    \n",
    "\n",
    "class Biblioteca:\n",
    "    def __init__(self):\n",
    "        self.libros = []\n",
    "        \n",
    "    def agregar_libro(self, libro):\n",
    "        self.libros.append(libro)\n",
    "        return print(f\"Libro agregado correctamente a la biblioteca\")\n",
    "    \n",
    "    def mostrar_libros(self):\n",
    "        for libro in self.libros:\n",
    "            print(f\"Libros de la biblioteca: {libro.titulo}\")\n",
    "    \n",
    "    def prestar_libro(self, usuario, titulo):\n",
    "        for libro in self.libros:\n",
    "            if libro.titulo == titulo and libro.ejemplares_disponibles > 0:\n",
    "                usuario.libros_prestados.append(libro)\n",
    "                libro.ejemplares_disponibles -=1\n",
    "                print (f\"Libro encontrado {libro.titulo} - Disponibles: {libro.ejemplares_disponibles}\")\n",
    "            else:\n",
    "                print (\"Libro no encontrado\")\n",
    "                return\n",
    "    \n",
    "mi_user = Usuarios('Jose', 1)\n",
    "libro1 = Libros('La vida es bella', 'Jeqs', 100)\n",
    "libro2 = Libros('Cien años de soledad', 'Gabo', 10)\n",
    "\n",
    "mi_li = Biblioteca()\n",
    "mi_li.agregar_libro(libro1)\n",
    "mi_li.agregar_libro(libro2)\n",
    "\n",
    "mi_li.mostrar_libros()\n",
    "mi_li.prestar_libro(mi_user, 'La vida es bella')\n",
    "\n",
    "\n",
    "mi_user.mostrar_usuario()"
   ]
  }
 ],
 "metadata": {
  "kernelspec": {
   "display_name": "study",
   "language": "python",
   "name": "python3"
  },
  "language_info": {
   "codemirror_mode": {
    "name": "ipython",
    "version": 3
   },
   "file_extension": ".py",
   "mimetype": "text/x-python",
   "name": "python",
   "nbconvert_exporter": "python",
   "pygments_lexer": "ipython3",
   "version": "3.9.16"
  },
  "orig_nbformat": 4
 },
 "nbformat": 4,
 "nbformat_minor": 2
}
