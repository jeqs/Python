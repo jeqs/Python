{
 "cells": [
  {
   "cell_type": "code",
   "execution_count": 5,
   "metadata": {},
   "outputs": [
    {
     "name": "stdout",
     "output_type": "stream",
     "text": [
      "1\n",
      "2\n",
      "3\n"
     ]
    }
   ],
   "source": [
    "tupla = {1, 2, 3}\n",
    "for d in tupla:\n",
    "    print (d)\n"
   ]
  },
  {
   "cell_type": "code",
   "execution_count": 13,
   "metadata": {},
   "outputs": [
    {
     "name": "stdout",
     "output_type": "stream",
     "text": [
      "2\n",
      "string\n",
      "True\n",
      "<class 'tuple'>\n"
     ]
    },
    {
     "ename": "TypeError",
     "evalue": "'tuple' object does not support item assignment",
     "output_type": "error",
     "traceback": [
      "\u001b[1;31m---------------------------------------------------------------------------\u001b[0m",
      "\u001b[1;31mTypeError\u001b[0m                                 Traceback (most recent call last)",
      "Cell \u001b[1;32mIn[13], line 8\u001b[0m\n\u001b[0;32m      6\u001b[0m tupas \u001b[39m=\u001b[39m (\u001b[39m1\u001b[39m, \u001b[39m\"\u001b[39m\u001b[39mstring\u001b[39m\u001b[39m\"\u001b[39m, \u001b[39mTrue\u001b[39;00m)\n\u001b[0;32m      7\u001b[0m \u001b[39mprint\u001b[39m(\u001b[39mtype\u001b[39m(tupas))\n\u001b[1;32m----> 8\u001b[0m tupas[\u001b[39m0\u001b[39;49m] \u001b[39m=\u001b[39m \u001b[39m2\u001b[39m\n",
      "\u001b[1;31mTypeError\u001b[0m: 'tuple' object does not support item assignment"
     ]
    }
   ],
   "source": [
    "lista  = [1, \"string\", True]\n",
    "lista[0] = 2\n",
    "for d in lista:\n",
    "    print (d)\n",
    "\n",
    "tupas = (1, \"string\", True)\n",
    "print(type(tupas))\n",
    "tupas[0] = 2"
   ]
  },
  {
   "cell_type": "code",
   "execution_count": 14,
   "metadata": {},
   "outputs": [
    {
     "name": "stdout",
     "output_type": "stream",
     "text": [
      "6\n"
     ]
    }
   ],
   "source": [
    "tupas = (1, 2, 3)\n",
    "print(sum(tupas))\n"
   ]
  },
  {
   "cell_type": "code",
   "execution_count": 16,
   "metadata": {},
   "outputs": [
    {
     "name": "stdout",
     "output_type": "stream",
     "text": [
      "('a', 'c', 'e')\n"
     ]
    }
   ],
   "source": [
    "tupla_s = ('ab', 'cd', 'ed')\n",
    "lista = []\n",
    "for c in tupla_s:\n",
    "    lista.append(c[0])\n",
    "ntupla = tuple(lista)\n",
    "print (ntupla)\n"
   ]
  },
  {
   "cell_type": "code",
   "execution_count": 17,
   "metadata": {},
   "outputs": [
    {
     "name": "stdout",
     "output_type": "stream",
     "text": [
      "('a', 'c', 'e')\n"
     ]
    }
   ],
   "source": [
    "tupla_s = ('ab', 'cd', 'ed')\n",
    "ntupla = tuple(c[0] for c in tupla_s)\n",
    "print (ntupla)"
   ]
  },
  {
   "cell_type": "code",
   "execution_count": 19,
   "metadata": {},
   "outputs": [
    {
     "name": "stdout",
     "output_type": "stream",
     "text": [
      "22\n"
     ]
    }
   ],
   "source": [
    "tupla_int = (1,2,3,4,5,6,7,10,9)\n",
    "suma = 0\n",
    "for var in tupla_int:\n",
    "    if var % 2 ==0:\n",
    "        suma = suma + var\n",
    "\n",
    "print (suma)"
   ]
  },
  {
   "cell_type": "code",
   "execution_count": 25,
   "metadata": {},
   "outputs": [
    {
     "name": "stdout",
     "output_type": "stream",
     "text": [
      "(10, 9, 7, 6, 5, 4, 3, 2, 1)\n"
     ]
    }
   ],
   "source": [
    "tupla_oint = (1,2,3,4,5,6,7,10,9)\n",
    "orden = sorted(tupla_oint, reverse=True)\n",
    "print(tuple(orden))\n",
    "# print(tuple(reversed(tupla_oint)))"
   ]
  },
  {
   "cell_type": "code",
   "execution_count": 28,
   "metadata": {},
   "outputs": [
    {
     "name": "stdout",
     "output_type": "stream",
     "text": [
      "(1, 2, 3, 4, 5, 6, 7, 9, 10)\n"
     ]
    }
   ],
   "source": [
    "tupla_oint = (1,2,3,4,5,6,7,7,10,9)\n",
    "myset = set(tupla_oint)\n",
    "print(tuple(myset))"
   ]
  },
  {
   "cell_type": "code",
   "execution_count": 29,
   "metadata": {},
   "outputs": [
    {
     "name": "stdout",
     "output_type": "stream",
     "text": [
      "False\n"
     ]
    }
   ],
   "source": [
    "tupla_oint = (1,2,3,4,5,6,7,10,9)\n",
    "print(11 in tupla_oint)"
   ]
  },
  {
   "cell_type": "code",
   "execution_count": 30,
   "metadata": {},
   "outputs": [
    {
     "name": "stdout",
     "output_type": "stream",
     "text": [
      "(1, 2, 3, 4, 5, 6, 7, 10, 9, 4, 5, 6, 7, 10, 9)\n"
     ]
    }
   ],
   "source": [
    "tupla_oint1 = (1,2,3,4,5,6,7,10,9)\n",
    "tupla_oint2 = (4,5,6,7,10,9)\n",
    "tupla_oint3 = tupla_oint1 + tupla_oint2\n",
    "print(tupla_oint3)\n"
   ]
  },
  {
   "cell_type": "code",
   "execution_count": 32,
   "metadata": {},
   "outputs": [
    {
     "name": "stdout",
     "output_type": "stream",
     "text": [
      "fffff\n",
      "aba\n"
     ]
    }
   ],
   "source": [
    "tupla_oint1 = (\"aba\", \"addd\", \"fffff\")\n",
    "print(max(tupla_oint1, key=len))\n",
    "print(min(tupla_oint1, key=len))\n"
   ]
  },
  {
   "cell_type": "code",
   "execution_count": 33,
   "metadata": {},
   "outputs": [
    {
     "name": "stdout",
     "output_type": "stream",
     "text": [
      "(9, 10, 7, 6, 5, 4, 3, 2, 1)\n"
     ]
    }
   ],
   "source": [
    "tupla_oint = (1,2,3,4,5,6,7,10,9)\n",
    "print(tupla_oint[::-1])"
   ]
  },
  {
   "cell_type": "code",
   "execution_count": 35,
   "metadata": {},
   "outputs": [
    {
     "name": "stdout",
     "output_type": "stream",
     "text": [
      "3\n",
      "5\n",
      "4\n"
     ]
    }
   ],
   "source": [
    "tupla_tupas = ((1,2),(2,3),(1,3))\n",
    "for tupl in tupla_tupas:\n",
    "    print(tupl[0] + tupl[1])\n"
   ]
  },
  {
   "cell_type": "code",
   "execution_count": 42,
   "metadata": {},
   "outputs": [
    {
     "name": "stdout",
     "output_type": "stream",
     "text": [
      "<generator object <genexpr> at 0x0000025638899120>\n"
     ]
    }
   ],
   "source": [
    "tupla_tupas = ((1,2),(2,3),(1,3))\n",
    "sumt = (list(sum(tupl)) for tupl in tupla_tupas)\n",
    "print(sumt)\n"
   ]
  }
 ],
 "metadata": {
  "kernelspec": {
   "display_name": "study",
   "language": "python",
   "name": "python3"
  },
  "language_info": {
   "codemirror_mode": {
    "name": "ipython",
    "version": 3
   },
   "file_extension": ".py",
   "mimetype": "text/x-python",
   "name": "python",
   "nbconvert_exporter": "python",
   "pygments_lexer": "ipython3",
   "version": "3.9.16"
  },
  "orig_nbformat": 4
 },
 "nbformat": 4,
 "nbformat_minor": 2
}
