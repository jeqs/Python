{
 "cells": [
  {
   "cell_type": "code",
   "execution_count": 14,
   "metadata": {},
   "outputs": [
    {
     "name": "stdout",
     "output_type": "stream",
     "text": [
      "{1, 2, 3, 4}\n",
      "<class 'set'>\n"
     ]
    }
   ],
   "source": [
    "sm_et = {1,2,3,4}\n",
    "print(sm_et)\n",
    "print(type(sm_et))"
   ]
  },
  {
   "cell_type": "code",
   "execution_count": 13,
   "metadata": {},
   "outputs": [
    {
     "name": "stdout",
     "output_type": "stream",
     "text": [
      "{1, 3, 4}\n"
     ]
    }
   ],
   "source": [
    "sm_et = {1,3,2,3,4}\n",
    "sm_et.discard(2)\n",
    "# set.remove(2)\n",
    "print(sm_et)"
   ]
  },
  {
   "cell_type": "code",
   "execution_count": 12,
   "metadata": {},
   "outputs": [
    {
     "ename": "TypeError",
     "evalue": "'tuple' object is not callable",
     "output_type": "error",
     "traceback": [
      "\u001b[1;31m---------------------------------------------------------------------------\u001b[0m",
      "\u001b[1;31mTypeError\u001b[0m                                 Traceback (most recent call last)",
      "Cell \u001b[1;32mIn[12], line 1\u001b[0m\n\u001b[1;32m----> 1\u001b[0m sm_et \u001b[39m=\u001b[39m \u001b[39mset\u001b[39;49m()\n\u001b[0;32m      2\u001b[0m \u001b[39mprint\u001b[39m(sm_et)\n\u001b[0;32m      3\u001b[0m \u001b[39mprint\u001b[39m(\u001b[39mtype\u001b[39m(sm_et))\n",
      "\u001b[1;31mTypeError\u001b[0m: 'tuple' object is not callable"
     ]
    }
   ],
   "source": [
    "sm_et_v = set()\n",
    "print(sm_et_v)\n",
    "print(type(sm_et_v))"
   ]
  },
  {
   "cell_type": "code",
   "execution_count": 17,
   "metadata": {},
   "outputs": [
    {
     "name": "stdout",
     "output_type": "stream",
     "text": [
      "{1, 2, 3, 4, 7, 8}\n",
      "{2, 3, 4}\n",
      "{1, 7, 8}\n"
     ]
    }
   ],
   "source": [
    "sm_et_1 = {1,3,2,3,4}\n",
    "sm_et_2 = {3,2,4,7,8}\n",
    "print (sm_et_1 | sm_et_2)\n",
    "print (sm_et_1 & sm_et_2)\n",
    "print (sm_et_1 ^ sm_et_2)"
   ]
  },
  {
   "cell_type": "code",
   "execution_count": 21,
   "metadata": {},
   "outputs": [
    {
     "name": "stdout",
     "output_type": "stream",
     "text": [
      "{2, 3, 4}\n",
      "<class 'set'>\n"
     ]
    }
   ],
   "source": [
    "sm_et_1 = {1,3,2,3,4}\n",
    "sm_et_2 = {3,2,4,7,8}\n",
    "sm_et_3 = sm_et_1 & sm_et_2\n",
    "print (sm_et_3)\n",
    "print (type(sm_et_3))"
   ]
  },
  {
   "cell_type": "code",
   "execution_count": 22,
   "metadata": {},
   "outputs": [
    {
     "name": "stdout",
     "output_type": "stream",
     "text": [
      "4\n",
      "1\n"
     ]
    }
   ],
   "source": [
    "sm_et_1 = {1,3,2,3,4}\n",
    "print (max(sm_et_1))\n",
    "print (min(sm_et_1))"
   ]
  }
 ],
 "metadata": {
  "kernelspec": {
   "display_name": "study",
   "language": "python",
   "name": "python3"
  },
  "language_info": {
   "codemirror_mode": {
    "name": "ipython",
    "version": 3
   },
   "file_extension": ".py",
   "mimetype": "text/x-python",
   "name": "python",
   "nbconvert_exporter": "python",
   "pygments_lexer": "ipython3",
   "version": "3.9.16"
  },
  "orig_nbformat": 4
 },
 "nbformat": 4,
 "nbformat_minor": 2
}
