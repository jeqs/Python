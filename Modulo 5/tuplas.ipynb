{
 "cells": [
  {
   "cell_type": "code",
   "execution_count": 3,
   "metadata": {},
   "outputs": [
    {
     "name": "stdout",
     "output_type": "stream",
     "text": [
      "<class 'list'>\n",
      "<class 'tuple'>\n",
      "<class 'list'>\n"
     ]
    }
   ],
   "source": [
    "lista = [1,2,3,4]\n",
    "print (type(lista))\n",
    "\n",
    "tupla = tuple(lista)\n",
    "print (type(tupla))\n",
    "\n",
    "listat = list(tupla)\n",
    "print (type(listat))"
   ]
  },
  {
   "cell_type": "code",
   "execution_count": 11,
   "metadata": {},
   "outputs": [
    {
     "ename": "SyntaxError",
     "evalue": "invalid syntax (443271746.py, line 1)",
     "output_type": "error",
     "traceback": [
      "\u001b[1;36m  Cell \u001b[1;32mIn[11], line 1\u001b[1;36m\u001b[0m\n\u001b[1;33m    tupla = (1 \"string\", True)\u001b[0m\n\u001b[1;37m               ^\u001b[0m\n\u001b[1;31mSyntaxError\u001b[0m\u001b[1;31m:\u001b[0m invalid syntax\n"
     ]
    }
   ],
   "source": [
    "tupla = (1, \"string\", True)\n",
    "sub = tupla[1:2]\n",
    "print (sub)\n"
   ]
  },
  {
   "cell_type": "code",
   "execution_count": 14,
   "metadata": {},
   "outputs": [
    {
     "name": "stdout",
     "output_type": "stream",
     "text": [
      "True\n",
      "4\n",
      "3\n"
     ]
    }
   ],
   "source": [
    "tupla = (1, \"string\", True, 1)\n",
    "print (1 in tupla)\n",
    "print (len(tupla))\n"
   ]
  },
  {
   "cell_type": "code",
   "execution_count": 16,
   "metadata": {},
   "outputs": [
    {
     "name": "stdout",
     "output_type": "stream",
     "text": [
      "2\n"
     ]
    }
   ],
   "source": [
    "tupla = (1, 3, 1, 5)\n",
    "print (tupla.count(1))\n"
   ]
  },
  {
   "cell_type": "code",
   "execution_count": 17,
   "metadata": {},
   "outputs": [
    {
     "name": "stdout",
     "output_type": "stream",
     "text": [
      "1\n"
     ]
    }
   ],
   "source": [
    "tupla = (1, 3, 1, 5)\n",
    "print (tupla.index(3))\n"
   ]
  },
  {
   "cell_type": "code",
   "execution_count": 19,
   "metadata": {},
   "outputs": [
    {
     "name": "stdout",
     "output_type": "stream",
     "text": [
      "5\n",
      "1\n"
     ]
    }
   ],
   "source": [
    "tupla = (1, 3, 1, 5)\n",
    "print (max(tupla))\n",
    "print (min(tupla))\n"
   ]
  },
  {
   "cell_type": "code",
   "execution_count": 22,
   "metadata": {},
   "outputs": [
    {
     "name": "stdout",
     "output_type": "stream",
     "text": [
      "[1, 1, 3, 5]\n",
      "<class 'list'>\n"
     ]
    }
   ],
   "source": [
    "tupla = (1, 3, 1, 5)\n",
    "print (sorted(tupla))\n",
    "print (type(sorted(tupla)))\n"
   ]
  },
  {
   "cell_type": "code",
   "execution_count": 26,
   "metadata": {},
   "outputs": [
    {
     "name": "stdout",
     "output_type": "stream",
     "text": [
      "<reversed object at 0x0000016C45BBFE20>\n",
      "<class 'reversed'>\n",
      "(5, 1, 3, 1)\n"
     ]
    }
   ],
   "source": [
    "tupla = (1, 3, 1, 5)\n",
    "rvsv = reversed(tupla)\n",
    "print (rvsv)\n",
    "print (type(reversed(tupla)))\n",
    "print (tuple(rvsv))"
   ]
  },
  {
   "cell_type": "code",
   "execution_count": 28,
   "metadata": {},
   "outputs": [
    {
     "name": "stdout",
     "output_type": "stream",
     "text": [
      "((1, 2), (3, 4), (1, 6), (5, 8))\n"
     ]
    }
   ],
   "source": [
    "tupla1 = (1, 3, 1, 5)\n",
    "tupla2 = (2, 4, 6, 8)\n",
    "tupla3 = tuple(zip(tupla1, tupla2))\n",
    "print (tupla3)"
   ]
  },
  {
   "cell_type": "code",
   "execution_count": 32,
   "metadata": {},
   "outputs": [
    {
     "name": "stdout",
     "output_type": "stream",
     "text": [
      "(1, 3, 1, 5)\n",
      "1\n"
     ]
    }
   ],
   "source": [
    "tuplaT = ((1, 3, 1, 5),(2, 4, 6, 8),(2, 4, 6, 8))\n",
    "print (tuplaT[0])\n",
    "print (tuplaT[0][0])"
   ]
  },
  {
   "cell_type": "code",
   "execution_count": 36,
   "metadata": {},
   "outputs": [
    {
     "name": "stdout",
     "output_type": "stream",
     "text": [
      "((1, 3, 1, 5), (2, 4, 6, 8))\n"
     ]
    }
   ],
   "source": [
    "tuplaT = ((1, 3, 1, 5),(2, 4, 6, 8),(2, 4, 6, 8))\n",
    "# pTupla = tuplaT[1]\n",
    "pTupla = tuplaT[0:2] #[:2]\n",
    "print (pTupla)"
   ]
  },
  {
   "cell_type": "code",
   "execution_count": 40,
   "metadata": {},
   "outputs": [
    {
     "name": "stdout",
     "output_type": "stream",
     "text": [
      "(5, 6, 7)\n"
     ]
    }
   ],
   "source": [
    "tuplaT = ((1, 3, 1, 5),(1, 2, 3, 4),(5, 6, 7, 8))\n",
    "pTupla = tuplaT[2][0:3] \n",
    "print (pTupla)"
   ]
  },
  {
   "cell_type": "code",
   "execution_count": 42,
   "metadata": {},
   "outputs": [
    {
     "name": "stdout",
     "output_type": "stream",
     "text": [
      "<class 'int'>\n",
      "<class 'tuple'>\n"
     ]
    }
   ],
   "source": [
    "tuplaU = (1)\n",
    "print(type(tuplaU))\n",
    "\n",
    "tuplaU = (1,)\n",
    "print(type(tuplaU))"
   ]
  },
  {
   "cell_type": "code",
   "execution_count": 43,
   "metadata": {},
   "outputs": [
    {
     "name": "stdout",
     "output_type": "stream",
     "text": [
      "1 String True\n"
     ]
    }
   ],
   "source": [
    "tuplaE = (1, \"String\", True)\n",
    "string, entero, booleano = tuplaE\n",
    "print(string, entero, booleano)"
   ]
  },
  {
   "cell_type": "code",
   "execution_count": 47,
   "metadata": {},
   "outputs": [
    {
     "name": "stdout",
     "output_type": "stream",
     "text": [
      "<class 'set'>\n",
      "{1, 2, 3, 4, 'dat'}\n"
     ]
    }
   ],
   "source": [
    "sett = {1,2,3,4, 'dat'}\n",
    "print(type(sett))\n",
    "print(sett)"
   ]
  },
  {
   "cell_type": "code",
   "execution_count": 51,
   "metadata": {},
   "outputs": [
    {
     "name": "stdout",
     "output_type": "stream",
     "text": [
      "{'fruta', 'a', 'dat'}\n"
     ]
    }
   ],
   "source": [
    "datos = {'dat', 'a', 'fruta', 'a'}\n",
    "print(datos)\n",
    "# datos[0] = 'b'\n",
    "# print(datos[0])"
   ]
  },
  {
   "cell_type": "code",
   "execution_count": 53,
   "metadata": {},
   "outputs": [
    {
     "name": "stdout",
     "output_type": "stream",
     "text": [
      "True\n"
     ]
    }
   ],
   "source": [
    "datos = {'dat', 'a', 'fruta', 'a'}\n",
    "print('dat' in datos)"
   ]
  },
  {
   "cell_type": "code",
   "execution_count": 54,
   "metadata": {},
   "outputs": [
    {
     "name": "stdout",
     "output_type": "stream",
     "text": [
      "{'piña', 'mango', 'banano', 'manzana'}\n"
     ]
    }
   ],
   "source": [
    "frutas = {'piña', 'manzana', 'banano'}\n",
    "frutas.add('mango')\n",
    "print(frutas)"
   ]
  },
  {
   "cell_type": "code",
   "execution_count": 58,
   "metadata": {},
   "outputs": [
    {
     "name": "stdout",
     "output_type": "stream",
     "text": [
      "{'banano', 'manzana'}\n"
     ]
    }
   ],
   "source": [
    "frutas = {'piña', 'manzana', 'banano'}\n",
    "frutas.remove('piña')\n",
    "# frutas.discard('piña') Borra exista o no, no da error\n",
    "print(frutas)"
   ]
  },
  {
   "cell_type": "code",
   "execution_count": 60,
   "metadata": {},
   "outputs": [
    {
     "name": "stdout",
     "output_type": "stream",
     "text": [
      "{'piña', 'banano', 'manzana'}\n",
      "<class 'set'>\n",
      "['piña', 'banano', 'manzana']\n",
      "<class 'list'>\n"
     ]
    }
   ],
   "source": [
    "frutas = {'piña', 'manzana', 'banano'}\n",
    "lista = list(frutas)\n",
    "print(frutas)\n",
    "print(type(frutas))\n",
    "print(lista)\n",
    "print(type(lista))"
   ]
  },
  {
   "cell_type": "code",
   "execution_count": 61,
   "metadata": {},
   "outputs": [
    {
     "name": "stdout",
     "output_type": "stream",
     "text": [
      "{'piña', 'banano', 'manzana'}\n",
      "<class 'set'>\n",
      "['piña', 'manzana', 'banano', 'manzana']\n",
      "<class 'list'>\n"
     ]
    }
   ],
   "source": [
    "lista = ['piña', 'manzana', 'banano', 'manzana']\n",
    "frutas = set(lista)\n",
    "print(frutas)\n",
    "print(type(frutas))\n",
    "print(lista)\n",
    "print(type(lista))"
   ]
  },
  {
   "cell_type": "code",
   "execution_count": 62,
   "metadata": {},
   "outputs": [
    {
     "name": "stdout",
     "output_type": "stream",
     "text": [
      "{'piña', 'mora', 'pera', 'banano', 'manzana'}\n"
     ]
    }
   ],
   "source": [
    "set1 = {'piña', 'manzana', 'banano'}\n",
    "set2 = {'mora', 'manzana', 'pera'}\n",
    "set0 = set1 | set2 #union\n",
    "print(set0)"
   ]
  },
  {
   "cell_type": "code",
   "execution_count": 63,
   "metadata": {},
   "outputs": [
    {
     "name": "stdout",
     "output_type": "stream",
     "text": [
      "{'manzana'}\n"
     ]
    }
   ],
   "source": [
    "set1 = {'piña', 'manzana', 'banano'}\n",
    "set2 = {'mora', 'manzana', 'pera'}\n",
    "set0 = set1 & set2 #Intersección\n",
    "print(set0)"
   ]
  },
  {
   "cell_type": "code",
   "execution_count": 64,
   "metadata": {},
   "outputs": [
    {
     "name": "stdout",
     "output_type": "stream",
     "text": [
      "{'piña', 'banano'}\n"
     ]
    }
   ],
   "source": [
    "set1 = {'piña', 'manzana', 'banano'}\n",
    "set2 = {'mora', 'manzana', 'pera'}\n",
    "set0 = set1 - set2 #Diferencia, quitar los elementos de 1 q esten en 2\n",
    "print(set0)"
   ]
  },
  {
   "cell_type": "code",
   "execution_count": 65,
   "metadata": {},
   "outputs": [
    {
     "name": "stdout",
     "output_type": "stream",
     "text": [
      "{'mora', 'pera', 'piña', 'banano'}\n"
     ]
    }
   ],
   "source": [
    "set1 = {'piña', 'manzana', 'banano'}\n",
    "set2 = {'mora', 'manzana', 'pera'}\n",
    "set0 = set1 ^ set2 #Diferencia simetrica, elimina 1 de 2 o 2 de 1   \n",
    "print(set0)"
   ]
  }
 ],
 "metadata": {
  "kernelspec": {
   "display_name": "study",
   "language": "python",
   "name": "python3"
  },
  "language_info": {
   "codemirror_mode": {
    "name": "ipython",
    "version": 3
   },
   "file_extension": ".py",
   "mimetype": "text/x-python",
   "name": "python",
   "nbconvert_exporter": "python",
   "pygments_lexer": "ipython3",
   "version": "3.9.16"
  },
  "orig_nbformat": 4
 },
 "nbformat": 4,
 "nbformat_minor": 2
}
