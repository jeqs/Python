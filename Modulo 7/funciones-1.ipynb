{
 "cells": [
  {
   "cell_type": "code",
   "execution_count": 1,
   "metadata": {},
   "outputs": [
    {
     "name": "stdout",
     "output_type": "stream",
     "text": [
      "hola!: Jeqs1 - su nombre\n",
      "hola!: Jeqs2 - su nombre\n",
      "hola!: Jeqs3 - su nombre\n",
      "hola!: valor - su nombre\n",
      "hola!: su valor - su nombre\n"
     ]
    }
   ],
   "source": [
    "def imprimir(valor = \"su valor\", texto = \"su nombre\"):\n",
    "    print (f\"hola!: {valor} - {texto}\")\n",
    "\n",
    "imprimir(\"Jeqs1\")\n",
    "imprimir(\"Jeqs2\")\n",
    "imprimir(\"Jeqs3\")\n",
    "imprimir(\"valor\")\n",
    "imprimir()"
   ]
  },
  {
   "cell_type": "code",
   "execution_count": 2,
   "metadata": {},
   "outputs": [
    {
     "name": "stdout",
     "output_type": "stream",
     "text": [
      "sumatoria: 0\n",
      "sumatoria: 3\n"
     ]
    }
   ],
   "source": [
    "def suma(a = 0, b= 0):\n",
    "    print (f\"sumatoria: {a+b}\")\n",
    "suma()\n",
    "suma(1,2)"
   ]
  },
  {
   "cell_type": "code",
   "execution_count": 3,
   "metadata": {},
   "outputs": [
    {
     "name": "stdout",
     "output_type": "stream",
     "text": [
      "area: 0\n",
      "area: 2\n"
     ]
    }
   ],
   "source": [
    "def area(base = 0, altura= 0):\n",
    "    area = base * altura\n",
    "    print (f\"area: {area}\")\n",
    "\n",
    "area()\n",
    "area(1,2)"
   ]
  },
  {
   "cell_type": "code",
   "execution_count": 6,
   "metadata": {},
   "outputs": [
    {
     "name": "stdout",
     "output_type": "stream",
     "text": [
      "lista: [1, 2, 3, 43, 5]\n",
      "lista: 1\n",
      "lista: 2\n",
      "lista: 3\n",
      "lista: 43\n",
      "lista: 5\n"
     ]
    }
   ],
   "source": [
    "def imprimirlista(lista):\n",
    "    print (f\"lista: {lista}\")\n",
    "\n",
    "lista = [1,2,3,43,5]\n",
    "imprimirlista(lista)\n",
    "\n",
    "for ele in lista:\n",
    "    imprimirlista(ele)"
   ]
  },
  {
   "cell_type": "code",
   "execution_count": 7,
   "metadata": {},
   "outputs": [
    {
     "name": "stdout",
     "output_type": "stream",
     "text": [
      "impar\n",
      "para\n",
      "impar\n"
     ]
    }
   ],
   "source": [
    "def espar(valor):\n",
    "    if valor % 2 == 0:\n",
    "        print (\"para\")\n",
    "    else:\n",
    "        print (\"impar\")\n",
    "espar (1)\n",
    "espar (2)\n",
    "espar (55)"
   ]
  },
  {
   "cell_type": "code",
   "execution_count": 8,
   "metadata": {},
   "outputs": [
    {
     "name": "stdout",
     "output_type": "stream",
     "text": [
      "Maximo: 43\n"
     ]
    }
   ],
   "source": [
    "def listaMaximo(valor):\n",
    "    print (f\"Maximo: {max(valor)}\")\n",
    "\n",
    "lista = [1,2,3,43,5]\n",
    "listaMaximo(lista)"
   ]
  },
  {
   "cell_type": "code",
   "execution_count": 10,
   "metadata": {},
   "outputs": [
    {
     "name": "stdout",
     "output_type": "stream",
     "text": [
      "celsius: 23.88888888888889\n"
     ]
    }
   ],
   "source": [
    "def convertirFaren(fahrenheit):\n",
    "    celsius = (fahrenheit-32) * 5/9\n",
    "    print (f\"celsius: {celsius}\")\n",
    "\n",
    "convertirFaren(75)"
   ]
  },
  {
   "cell_type": "code",
   "execution_count": 12,
   "metadata": {},
   "outputs": [
    {
     "name": "stdout",
     "output_type": "stream",
     "text": [
      "edad: 41\n",
      "edad: 41\n"
     ]
    }
   ],
   "source": [
    "def calcularEdad(anio_nacimiento, anio_actual = 2023):\n",
    "    edad = anio_actual - anio_nacimiento\n",
    "    print (f\"edad: {edad}\")\n",
    "\n",
    "calcularEdad(1982,2023)\n",
    "calcularEdad(1982)"
   ]
  },
  {
   "cell_type": "code",
   "execution_count": 14,
   "metadata": {},
   "outputs": [
    {
     "name": "stdout",
     "output_type": "stream",
     "text": [
      "divisible\n",
      "no divisible\n"
     ]
    }
   ],
   "source": [
    "def esDivisible(numero, divisor):\n",
    "    if (numero % divisor == 0):\n",
    "        print (f\"divisible\")\n",
    "    else:\n",
    "        print (f\"no divisible\")\n",
    "\n",
    "esDivisible(100,2)\n",
    "esDivisible(33,2)"
   ]
  },
  {
   "cell_type": "code",
   "execution_count": 16,
   "metadata": {},
   "outputs": [
    {
     "name": "stdout",
     "output_type": "stream",
     "text": [
      "Promedio: 10.8\n",
      "Promedio: 0\n"
     ]
    }
   ],
   "source": [
    "\n",
    "def calcularPromedio(lista = []):\n",
    "    if len(lista) == 0:\n",
    "        resultado = 0\n",
    "    else:\n",
    "        resultado = sum(lista) / len(lista)\n",
    "    print (f\"Promedio: {resultado}\")\n",
    "\n",
    "# lista = [1,2,3,43,5]\n",
    "calcularPromedio(lista)\n",
    "calcularPromedio()\n"
   ]
  },
  {
   "cell_type": "code",
   "execution_count": 20,
   "metadata": {},
   "outputs": [
    {
     "name": "stdout",
     "output_type": "stream",
     "text": [
      "calcularPotencia: 9\n",
      "calcularPotencia: 9\n",
      "calcularPotencia: 0\n"
     ]
    }
   ],
   "source": [
    "def calcularPotencia(base = None, exponente = 2):\n",
    "    resultadoBase = 0\n",
    "    if base is not None:\n",
    "        resultadoBase = base ** exponente\n",
    "    print (f\"calcularPotencia: {resultadoBase}\")\n",
    "\n",
    "calcularPotencia(3,2)\n",
    "calcularPotencia(3)\n",
    "calcularPotencia()"
   ]
  },
  {
   "cell_type": "code",
   "execution_count": 23,
   "metadata": {},
   "outputs": [
    {
     "data": {
      "text/plain": [
       "'Jose'"
      ]
     },
     "execution_count": 23,
     "metadata": {},
     "output_type": "execute_result"
    }
   ],
   "source": [
    "def retornarNombre(nombre = \"jeqs\"):\n",
    "    return nombre.title()\n",
    "\n",
    "retornarNombre()\n",
    "retornarNombre(\"joSe\")"
   ]
  },
  {
   "cell_type": "code",
   "execution_count": 25,
   "metadata": {},
   "outputs": [
    {
     "name": "stdout",
     "output_type": "stream",
     "text": [
      "{41, 'Quispe', 'Jeqs'}\n"
     ]
    }
   ],
   "source": [
    "def crearObjetoPersona(nombre = \"jeqs\", apellido = \"quispe\", edad = 41):\n",
    "    persona = {\n",
    "        nombre.title(),\n",
    "        apellido.title(),\n",
    "        edad\n",
    "    }\n",
    "    return persona\n",
    "\n",
    "objeto = crearObjetoPersona()\n",
    "print(objeto)"
   ]
  },
  {
   "cell_type": "code",
   "execution_count": 26,
   "metadata": {},
   "outputs": [
    {
     "name": "stdout",
     "output_type": "stream",
     "text": [
      "Ingredientes: ()\n",
      "Ingredientes: ('queso', 'tomate')\n"
     ]
    }
   ],
   "source": [
    "def hacerpizza(*ingredientes):\n",
    "    print(f\"Ingredientes: {ingredientes}\")\n",
    "hacerpizza()\n",
    "hacerpizza(\"queso\", \"tomate\")"
   ]
  },
  {
   "cell_type": "code",
   "execution_count": 27,
   "metadata": {},
   "outputs": [
    {
     "name": "stdout",
     "output_type": "stream",
     "text": [
      "Ingredientes: queso\n",
      "Ingredientes: tomate\n"
     ]
    }
   ],
   "source": [
    "def hacerpizza(*ingredientes):\n",
    "    for ingrediente in ingredientes:\n",
    "        print(f\"Ingredientes: {ingrediente}\")\n",
    "\n",
    "hacerpizza(\"queso\", \"tomate\")\n",
    "\n",
    "#      modulo       funcion       alias\n",
    "# from pizza import hacerpizza as hpi\n",
    "#            import numpy as np\n"
   ]
  },
  {
   "cell_type": "code",
   "execution_count": 3,
   "metadata": {},
   "outputs": [
    {
     "name": "stdout",
     "output_type": "stream",
     "text": [
      "Formulario Valido\n"
     ]
    }
   ],
   "source": [
    "def validarCampos(nombre = None, correo = None, telefono = None):\n",
    "    valido = True\n",
    "\n",
    "    if len(nombre) <= 3: valido = False\n",
    "    if \"@\" not in correo: valido = False\n",
    "    if len(telefono) <=9 or not telefono.isdigit():  valido = False\n",
    "\n",
    "    if valido:\n",
    "        print (\"Formulario Valido\")\n",
    "    else:\n",
    "        print (\"Formulario No Valido\")\n",
    "\n",
    "nombre = input(\"Ingresar nombre: \")\n",
    "correo = input(\"Correo:\")\n",
    "telefono = input(\"Ingresar telefono: \")\n",
    "\n",
    "validarCampos(nombre, correo, telefono)"
   ]
  },
  {
   "cell_type": "code",
   "execution_count": 6,
   "metadata": {},
   "outputs": [
    {
     "name": "stdout",
     "output_type": "stream",
     "text": [
      "Producto papa\n",
      "Venta 1000\n"
     ]
    }
   ],
   "source": [
    "ventas = []\n",
    "\n",
    "def agregar_venta(producto, precio):\n",
    "    ventas.append({\"producto\": producto, \"precio\": precio})\n",
    "\n",
    "def mostrar_venta():\n",
    "    for venta in ventas:\n",
    "        print (\"Producto\", venta[\"producto\"])\n",
    "        print (\"Venta\", venta[\"precio\"])\n",
    "\n",
    "producto = input(\"Ingresar Producto:\")\n",
    "precio = input(\"Ingresar Precio:\")\n",
    "\n",
    "agregar_venta(producto, precio)\n",
    "mostrar_venta()"
   ]
  },
  {
   "cell_type": "code",
   "execution_count": 2,
   "metadata": {},
   "outputs": [
    {
     "name": "stdout",
     "output_type": "stream",
     "text": [
      "10\n",
      "8\n",
      "6\n",
      "4\n",
      "2\n"
     ]
    }
   ],
   "source": [
    "def recursividad(valor, esPar = True):\n",
    "    print(valor)\n",
    "    rec = 1\n",
    "    if esPar == True:\n",
    "        rec = 2\n",
    "\n",
    "    if valor == rec: #Caso Base\n",
    "        return valor\n",
    "    else:\n",
    "        recursividad(valor-rec, esPar)\n",
    "\n",
    "recursividad(10,True)\n",
    "    "
   ]
  },
  {
   "cell_type": "code",
   "execution_count": 16,
   "metadata": {},
   "outputs": [
    {
     "name": "stdout",
     "output_type": "stream",
     "text": [
      "looop\n",
      "looop\n",
      "looop\n",
      "looop\n",
      "looop\n"
     ]
    },
    {
     "data": {
      "text/plain": [
       "2"
      ]
     },
     "execution_count": 16,
     "metadata": {},
     "output_type": "execute_result"
    }
   ],
   "source": [
    "def fibo(indice):\n",
    "    print(\"looop\")\n",
    "    if indice <= 1:\n",
    "        return indice\n",
    "    else:\n",
    "        return fibo(indice-1) + fibo(indice-2)\n",
    "\n",
    "fibo(3)\n",
    "\n",
    "# for i in range(0,21):\n",
    "#     print(fibo(i))"
   ]
  },
  {
   "cell_type": "code",
   "execution_count": 14,
   "metadata": {},
   "outputs": [
    {
     "data": {
      "text/plain": [
       "2"
      ]
     },
     "execution_count": 14,
     "metadata": {},
     "output_type": "execute_result"
    }
   ],
   "source": [
    "fibo_cache = {}\n",
    "\n",
    "def fibo(indice):\n",
    "\n",
    "    if indice in fibo_cache:\n",
    "        return fibo_cache[indice]\n",
    "\n",
    "    if indice <= 1:\n",
    "        valor = indice\n",
    "    else:\n",
    "        valor = fibo(indice-1) + fibo(indice-2)\n",
    "    \n",
    "    fibo_cache[indice] = valor\n",
    "    \n",
    "    return(valor)\n",
    "\n",
    "fibo(3)\n",
    "\n",
    "# for i in range(0,21):\n",
    "#     print(fibo(i))"
   ]
  },
  {
   "cell_type": "code",
   "execution_count": null,
   "metadata": {},
   "outputs": [],
   "source": [
    "from functools import lru_cache\n",
    "\n",
    "@lru_cache(maxsize=20)\n",
    "def fibo(indice):\n",
    "\n",
    "    if indice <= 1:\n",
    "        return indice\n",
    "    else:\n",
    "        return fibo(indice-1) + fibo(indice-2)\n",
    "\n",
    "for i in range(0,21):\n",
    "    print(fibo(i))"
   ]
  },
  {
   "cell_type": "code",
   "execution_count": 8,
   "metadata": {},
   "outputs": [
    {
     "data": {
      "text/plain": [
       "120"
      ]
     },
     "execution_count": 8,
     "metadata": {},
     "output_type": "execute_result"
    }
   ],
   "source": [
    "from functools import lru_cache\n",
    "\n",
    "#Calcular factorial Ej 5 => 5*4*3*2*1\n",
    "@lru_cache(maxsize=20)\n",
    "def factorial(numero):\n",
    "    #base\n",
    "    if numero <= 1:\n",
    "        return numero\n",
    "    else: #sentencia recursiva\n",
    "        return numero * factorial(numero-1)\n",
    "\n",
    "factorial(5)"
   ]
  },
  {
   "cell_type": "code",
   "execution_count": 33,
   "metadata": {},
   "outputs": [
    {
     "data": {
      "text/plain": [
       "8"
      ]
     },
     "execution_count": 33,
     "metadata": {},
     "output_type": "execute_result"
    }
   ],
   "source": [
    "from functools import lru_cache\n",
    "\n",
    "#2**3 = 2*2*2\n",
    "#2**4 = 2*2*2*2\n",
    "@lru_cache(maxsize=20)\n",
    "def potencia(base, exponente):\n",
    "    #base\n",
    "    if exponente == 0:\n",
    "        return 1\n",
    "    \n",
    "    else: #sentencia recursiva\n",
    "        return base * potencia(base, exponente-1)\n",
    "\n",
    "potencia(2,3)"
   ]
  },
  {
   "cell_type": "code",
   "execution_count": 37,
   "metadata": {},
   "outputs": [
    {
     "data": {
      "text/plain": [
       "4"
      ]
     },
     "execution_count": 37,
     "metadata": {},
     "output_type": "execute_result"
    }
   ],
   "source": [
    "#suma elemento lista\n",
    "def sumalista(lista):\n",
    "    \n",
    "    #base\n",
    "    if len(lista) == 1:\n",
    "        return lista[0]\n",
    "    \n",
    "    else: #sentencia recursiva\n",
    "        return lista[0] + sumalista(lista[1:])\n",
    "\n",
    "sumalista([1,2,1])"
   ]
  },
  {
   "cell_type": "code",
   "execution_count": 38,
   "metadata": {},
   "outputs": [
    {
     "name": "stdout",
     "output_type": "stream",
     "text": [
      "17.5\n"
     ]
    }
   ],
   "source": [
    "area_triangulo = lambda base,altura:(base*altura/2)\n",
    "\n",
    "triangulo = area_triangulo(5,7)\n",
    "print(triangulo)\n"
   ]
  },
  {
   "cell_type": "code",
   "execution_count": 2,
   "metadata": {},
   "outputs": [
    {
     "name": "stdout",
     "output_type": "stream",
     "text": [
      "8\n"
     ]
    }
   ],
   "source": [
    "al_cubo = lambda numero,potencia:(numero**potencia)\n",
    "print(al_cubo(2,3))"
   ]
  },
  {
   "cell_type": "code",
   "execution_count": 3,
   "metadata": {},
   "outputs": [
    {
     "name": "stdout",
     "output_type": "stream",
     "text": [
      "Jeqs\n"
     ]
    }
   ],
   "source": [
    "detacar = lambda text: f\"{text.title()}\"\n",
    "print(detacar(\"jeqs\"))"
   ]
  },
  {
   "cell_type": "code",
   "execution_count": 12,
   "metadata": {},
   "outputs": [
    {
     "name": "stdout",
     "output_type": "stream",
     "text": [
      "inicio operaciones matematicas\n",
      "Suma 3\n",
      "fin operaciones matematicas\n",
      "inicio operaciones matematicas\n",
      "Resta 8\n",
      "fin operaciones matematicas\n"
     ]
    }
   ],
   "source": [
    "def funcion_decoradora(fun_par):\n",
    "    def funcion_interna(*args):\n",
    "        print(\"inicio operaciones matematicas\")\n",
    "\n",
    "        fun_par(*args)\n",
    "\n",
    "        print(\"fin operaciones matematicas\")\n",
    "    return (funcion_interna)\n",
    "\n",
    "@funcion_decoradora\n",
    "def suma(a,b):\n",
    "    print(\"Suma\", a+b)\n",
    "\n",
    "@funcion_decoradora\n",
    "def resta(a,b):\n",
    "    print(\"Resta\", a-b)\n",
    "\n",
    "\n",
    "suma (1,2)\n",
    "resta (10,2)\n"
   ]
  },
  {
   "cell_type": "code",
   "execution_count": 13,
   "metadata": {},
   "outputs": [
    {
     "name": "stdout",
     "output_type": "stream",
     "text": [
      "inicio operaciones matematicas\n",
      "sumaArg 3\n",
      "fin operaciones matematicas\n"
     ]
    }
   ],
   "source": [
    "def funcion_decoradora_dos(fun_par):\n",
    "    def funcion_interna(*args, **kwargs):\n",
    "        print(\"inicio operaciones matematicas\")\n",
    "\n",
    "        fun_par(*args, **kwargs)\n",
    "\n",
    "        print(\"fin operaciones matematicas\")\n",
    "    return (funcion_interna)\n",
    "\n",
    "@funcion_decoradora_dos\n",
    "def sumaArg(a,b):\n",
    "    print(\"sumaArg\", a+b)\n",
    "\n",
    "sumaArg (a=1,b=2)\n"
   ]
  },
  {
   "cell_type": "code",
   "execution_count": 19,
   "metadata": {},
   "outputs": [
    {
     "name": "stdout",
     "output_type": "stream",
     "text": [
      "<class 'dict'>\n"
     ]
    }
   ],
   "source": [
    "def funciotal(**info):\n",
    "    print(type(info))\n",
    "\n",
    "funciotal(ubicacion =\"a\", dato=\"b\")"
   ]
  }
 ],
 "metadata": {
  "kernelspec": {
   "display_name": "study",
   "language": "python",
   "name": "python3"
  },
  "language_info": {
   "codemirror_mode": {
    "name": "ipython",
    "version": 3
   },
   "file_extension": ".py",
   "mimetype": "text/x-python",
   "name": "python",
   "nbconvert_exporter": "python",
   "pygments_lexer": "ipython3",
   "version": "3.9.16"
  },
  "orig_nbformat": 4
 },
 "nbformat": 4,
 "nbformat_minor": 2
}
